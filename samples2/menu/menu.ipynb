{
 "cells": [
  {
   "cell_type": "markdown",
   "id": "642b1a65",
   "metadata": {},
   "source": [
    "# Menu Sample"
   ]
  },
  {
   "cell_type": "markdown",
   "id": "5eb20f16",
   "metadata": {},
   "source": [
    "Define your pipeline. In this case we're using the `calc` sample."
   ]
  },
  {
   "cell_type": "code",
   "execution_count": 1,
   "id": "92e85100",
   "metadata": {},
   "outputs": [],
   "source": [
    "from menu import menu_pipeline_spec"
   ]
  },
  {
   "cell_type": "markdown",
   "id": "5ce78ae7",
   "metadata": {},
   "source": [
    "Define your test cases."
   ]
  },
  {
   "cell_type": "code",
   "execution_count": 2,
   "id": "509855e9",
   "metadata": {},
   "outputs": [],
   "source": [
    "cases = [\n",
    "    {\n",
    "        \"uuid\": \"1231c4df-bba6-42cd-a3ae-24f31d5503fa\",\n",
    "        \"keywords\": [\"add\", \"remove\", \"multi-step\"],\n",
    "        \"cart\": {\"items\": []},\n",
    "        \"turns\": [\n",
    "            {\n",
    "                \"user\": \"I'll have a grande vanilla latte\",\n",
    "                \"expected\": {\n",
    "                    \"items\": [\n",
    "                        {\n",
    "                            \"name\": \"latte\",\n",
    "                            \"quantity\": 1,\n",
    "                            \"size\": \"grande\",\n",
    "                            \"options\": [{\"name\": \"vanilla syrup\", \"amount\": \"regular\"}],\n",
    "                        }\n",
    "                    ]\n",
    "                },\n",
    "            },\n",
    "            {\n",
    "                \"user\": \"Actually make that nonfat and decaf\",\n",
    "                \"expected\": {\n",
    "                    \"items\": [\n",
    "                        {\n",
    "                            \"name\": \"latte\",\n",
    "                            \"quantity\": 1,\n",
    "                            \"size\": \"grande\",\n",
    "                            \"options\": [\n",
    "                                {\"name\": \"vanilla syrup\"},\n",
    "                                {\"name\": \"decaf\", \"quantity\": 1},\n",
    "                                {\"name\": \"nonfat milk\", \"quantity\": 1},\n",
    "                            ],\n",
    "                        }\n",
    "                    ]\n",
    "                },\n",
    "            },\n",
    "        ],\n",
    "    }\n",
    "]"
   ]
  },
  {
   "cell_type": "markdown",
   "id": "04b99f9b",
   "metadata": {},
   "source": [
    "Instantiate the Gotaglio object that runs the pipeline."
   ]
  },
  {
   "cell_type": "code",
   "execution_count": 3,
   "id": "f5941c4e",
   "metadata": {},
   "outputs": [],
   "source": [
    "from gotaglio.gotag import Gotaglio\n",
    "\n",
    "gt = Gotaglio([menu_pipeline_spec])"
   ]
  },
  {
   "cell_type": "markdown",
   "id": "92b61278",
   "metadata": {},
   "source": [
    "Run the calculator pipeline and store the result in `result`."
   ]
  },
  {
   "cell_type": "code",
   "execution_count": null,
   "id": "fb9a1774",
   "metadata": {},
   "outputs": [
    {
     "data": {
      "text/html": [
       "<pre style=\"white-space:pre;overflow-x:auto;line-height:normal;font-family:Menlo,'DejaVu Sans Mono',consolas,'Courier New',monospace\"></pre>\n"
      ],
      "text/plain": []
     },
     "metadata": {},
     "output_type": "display_data"
    },
    {
     "name": "stdout",
     "output_type": "stream",
     "text": [
      "\u001b[3m                    Summary for db27c1a7-9b3a-4fba-abd7-e618eeb92b28                     \u001b[0m\n",
      "┏━━━━━┳━━━━━━━━━━┳━━━━━━┳━━━━━━━━━━━━━━━━━━━━━━━━━┳━━━━━━━━━━━━━━━━━━━━━━━━━━━━━━━━━━━━━┓\n",
      "┃\u001b[1m \u001b[0m\u001b[1m id\u001b[0m\u001b[1m \u001b[0m┃\u001b[1m \u001b[0m\u001b[1mstatus  \u001b[0m\u001b[1m \u001b[0m┃\u001b[1m \u001b[0m\u001b[1mcost\u001b[0m\u001b[1m \u001b[0m┃\u001b[1m \u001b[0m\u001b[1mkeywords               \u001b[0m\u001b[1m \u001b[0m┃\u001b[1m \u001b[0m\u001b[1muser                               \u001b[0m\u001b[1m \u001b[0m┃\n",
      "┡━━━━━╇━━━━━━━━━━╇━━━━━━╇━━━━━━━━━━━━━━━━━━━━━━━━━╇━━━━━━━━━━━━━━━━━━━━━━━━━━━━━━━━━━━━━┩\n",
      "│\u001b[36m \u001b[0m\u001b[36m123\u001b[0m\u001b[36m \u001b[0m│\u001b[35m \u001b[0m\u001b[1;32mCOMPLETE\u001b[0m\u001b[35m \u001b[0m│ \u001b[1;31m    \u001b[0m │ add, multi-step, remove │ I'll have a grande vanilla latte    │\n",
      "│\u001b[36m \u001b[0m\u001b[36m123\u001b[0m\u001b[36m \u001b[0m│\u001b[35m \u001b[0m\u001b[1;32mCOMPLETE\u001b[0m\u001b[35m \u001b[0m│ \u001b[1;31m    \u001b[0m │ add, multi-step, remove │ Actually make that nonfat and decaf │\n",
      "└─────┴──────────┴──────┴─────────────────────────┴─────────────────────────────────────┘\n",
      "\n",
      "Total: \u001b[1;36m2\u001b[0m\n",
      "Complete: \u001b[1;36m2\u001b[0m/\u001b[1;36m2\u001b[0m \u001b[1m(\u001b[0m\u001b[1;36m100.00\u001b[0m%\u001b[1m)\u001b[0m\n",
      "Error: \u001b[1;36m0\u001b[0m/\u001b[1;36m2\u001b[0m \u001b[1m(\u001b[0m\u001b[1;36m0.00\u001b[0m%\u001b[1m)\u001b[0m\n",
      "Passed: \u001b[1;36m2\u001b[0m/\u001b[1;36m2\u001b[0m \u001b[1m(\u001b[0m\u001b[1;36m100.00\u001b[0m%\u001b[1m)\u001b[0m\n",
      "Failed: \u001b[1;36m0\u001b[0m/\u001b[1;36m2\u001b[0m \u001b[1m(\u001b[0m\u001b[1;36m0.00\u001b[0m%\u001b[1m)\u001b[0m\n",
      "\n",
      "\n",
      "Results written to logs\\db27c1a7-9b3a-4fba-abd7-e618eeb92b28.json\n"
     ]
    }
   ],
   "source": [
    "result = gt.run(\"menu\", cases, {\"prepare.template\": \"data/template.txt\", \"infer.model.name\": \"perfect\"},  save=True)\n",
    "gt.format(result)"
   ]
  }
 ],
 "metadata": {
  "kernelspec": {
   "display_name": ".venv (3.12.8)",
   "language": "python",
   "name": "python3"
  },
  "language_info": {
   "codemirror_mode": {
    "name": "ipython",
    "version": 3
   },
   "file_extension": ".py",
   "mimetype": "text/x-python",
   "name": "python",
   "nbconvert_exporter": "python",
   "pygments_lexer": "ipython3",
   "version": "3.12.10"
  }
 },
 "nbformat": 4,
 "nbformat_minor": 5
}
