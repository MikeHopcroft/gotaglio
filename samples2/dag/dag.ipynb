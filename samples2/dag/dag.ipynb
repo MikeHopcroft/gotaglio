{
 "cells": [
  {
   "cell_type": "markdown",
   "id": "642b1a65",
   "metadata": {},
   "source": [
    "# DAG Sample"
   ]
  },
  {
   "cell_type": "markdown",
   "id": "5eb20f16",
   "metadata": {},
   "source": [
    "This pipeline implements a [directed acyclic graph (DAG)](https://en.wikipedia.org/wiki/Directed_acyclic_graph) of stage functions.\n",
    "The pipeline has six stages, `A`, `B`, `C`, `D`, `E`, and `F`.\n",
    "For the purposes of the demo, each stage sleeps for tens of milliseonds and then completes.\n",
    "Here is the structure of the DAG:\n",
    "\n",
    "![](../../documentation/dag.png)\n",
    "\n",
    "This graph represents the following stage function dependencies:\n",
    "* `B` and `C` can't run until `A` completes.\n",
    "* `D` depends on `B` and `C`\n",
    "* `F` depends on `D` and `E`\n",
    "\n",
    "We'll start by importing the pipeline:"
   ]
  },
  {
   "cell_type": "code",
   "execution_count": 1,
   "id": "92e85100",
   "metadata": {},
   "outputs": [],
   "source": [
    "from dag import dag_pipeline_spec"
   ]
  },
  {
   "cell_type": "markdown",
   "id": "5ce78ae7",
   "metadata": {},
   "source": [
    "The DAG pipeline doesn't actually read its test cases, but we need to define one empty case so that Gotaglio's `run()` method will invoke the pipeline."
   ]
  },
  {
   "cell_type": "code",
   "execution_count": null,
   "id": "509855e9",
   "metadata": {},
   "outputs": [],
   "source": [
    "cases = [\n",
    "  {\n",
    "    \"uuid\": \"6919a246-945f-4d93-b39d-d798244dd08e\",\n",
    "  },\n",
    "]"
   ]
  },
  {
   "cell_type": "markdown",
   "id": "04b99f9b",
   "metadata": {},
   "source": [
    "Instantiate the Gotaglio object that runs the pipeline."
   ]
  },
  {
   "cell_type": "code",
   "execution_count": 3,
   "id": "f5941c4e",
   "metadata": {},
   "outputs": [],
   "source": [
    "from gotaglio.gotag import Gotaglio\n",
    "\n",
    "gt = Gotaglio([dag_pipeline_spec])"
   ]
  },
  {
   "cell_type": "markdown",
   "id": "92b61278",
   "metadata": {},
   "source": [
    "Run the pipeline. The summarize() method generates a table that shows the execution of the stages over time.\n",
    "Each row corresponds to a point in time where a stage function started or stopped. The green highlight\n",
    "indicates when stages were running."
   ]
  },
  {
   "cell_type": "code",
   "execution_count": 5,
   "id": "fb9a1774",
   "metadata": {},
   "outputs": [
    {
     "data": {
      "text/html": [
       "<pre style=\"white-space:pre;overflow-x:auto;line-height:normal;font-family:Menlo,'DejaVu Sans Mono',consolas,'Courier New',monospace\"><span style=\"font-style: italic\">             Timeline for case              </span>\n",
       "<span style=\"font-style: italic\">    6f31c4df-bba6-42cd-a3ae-24f31d5503fa    </span>\n",
       "┏━━━━━━┳━━━━━┳━━━━━┳━━━━━┳━━━━━┳━━━━━┳━━━━━┓\n",
       "┃<span style=\"font-weight: bold\"> step </span>┃<span style=\"font-weight: bold\">  A  </span>┃<span style=\"font-weight: bold\">  B  </span>┃<span style=\"font-weight: bold\">  C  </span>┃<span style=\"font-weight: bold\">  D  </span>┃<span style=\"font-weight: bold\">  E  </span>┃<span style=\"font-weight: bold\">  F  </span>┃\n",
       "┡━━━━━━╇━━━━━╇━━━━━╇━━━━━╇━━━━━╇━━━━━╇━━━━━┩\n",
       "│<span style=\"color: #008080; text-decoration-color: #008080\">    1 </span>│<span style=\"color: #008080; text-decoration-color: #008080\"> </span><span style=\"color: #008000; text-decoration-color: #008000; background-color: #008000\"> x </span><span style=\"color: #008080; text-decoration-color: #008080\"> </span>│<span style=\"color: #008080; text-decoration-color: #008080\">     </span>│<span style=\"color: #008080; text-decoration-color: #008080\">     </span>│<span style=\"color: #008080; text-decoration-color: #008080\">     </span>│<span style=\"color: #008080; text-decoration-color: #008080\">     </span>│<span style=\"color: #008080; text-decoration-color: #008080\">     </span>│\n",
       "│<span style=\"color: #008080; text-decoration-color: #008080\">    2 </span>│<span style=\"color: #008080; text-decoration-color: #008080\"> </span><span style=\"color: #008000; text-decoration-color: #008000; background-color: #008000\"> x </span><span style=\"color: #008080; text-decoration-color: #008080\"> </span>│<span style=\"color: #008080; text-decoration-color: #008080\">     </span>│<span style=\"color: #008080; text-decoration-color: #008080\">     </span>│<span style=\"color: #008080; text-decoration-color: #008080\">     </span>│<span style=\"color: #008080; text-decoration-color: #008080\"> </span><span style=\"color: #008000; text-decoration-color: #008000; background-color: #008000\"> x </span><span style=\"color: #008080; text-decoration-color: #008080\"> </span>│<span style=\"color: #008080; text-decoration-color: #008080\">     </span>│\n",
       "│<span style=\"color: #008080; text-decoration-color: #008080\">    3 </span>│<span style=\"color: #008080; text-decoration-color: #008080\"> </span><span style=\"color: #008000; text-decoration-color: #008000; background-color: #008000\"> x </span><span style=\"color: #008080; text-decoration-color: #008080\"> </span>│<span style=\"color: #008080; text-decoration-color: #008080\">     </span>│<span style=\"color: #008080; text-decoration-color: #008080\">     </span>│<span style=\"color: #008080; text-decoration-color: #008080\">     </span>│<span style=\"color: #008080; text-decoration-color: #008080\"> </span><span style=\"color: #008000; text-decoration-color: #008000; background-color: #008000\"> x </span><span style=\"color: #008080; text-decoration-color: #008080\"> </span>│<span style=\"color: #008080; text-decoration-color: #008080\">     </span>│\n",
       "│<span style=\"color: #008080; text-decoration-color: #008080\">    4 </span>│<span style=\"color: #008080; text-decoration-color: #008080\">     </span>│<span style=\"color: #008080; text-decoration-color: #008080\">     </span>│<span style=\"color: #008080; text-decoration-color: #008080\">     </span>│<span style=\"color: #008080; text-decoration-color: #008080\">     </span>│<span style=\"color: #008080; text-decoration-color: #008080\"> </span><span style=\"color: #008000; text-decoration-color: #008000; background-color: #008000\"> x </span><span style=\"color: #008080; text-decoration-color: #008080\"> </span>│<span style=\"color: #008080; text-decoration-color: #008080\">     </span>│\n",
       "│<span style=\"color: #008080; text-decoration-color: #008080\">    5 </span>│<span style=\"color: #008080; text-decoration-color: #008080\">     </span>│<span style=\"color: #008080; text-decoration-color: #008080\"> </span><span style=\"color: #008000; text-decoration-color: #008000; background-color: #008000\"> x </span><span style=\"color: #008080; text-decoration-color: #008080\"> </span>│<span style=\"color: #008080; text-decoration-color: #008080\">     </span>│<span style=\"color: #008080; text-decoration-color: #008080\">     </span>│<span style=\"color: #008080; text-decoration-color: #008080\">     </span>│<span style=\"color: #008080; text-decoration-color: #008080\">     </span>│\n",
       "│<span style=\"color: #008080; text-decoration-color: #008080\">    6 </span>│<span style=\"color: #008080; text-decoration-color: #008080\">     </span>│<span style=\"color: #008080; text-decoration-color: #008080\"> </span><span style=\"color: #008000; text-decoration-color: #008000; background-color: #008000\"> x </span><span style=\"color: #008080; text-decoration-color: #008080\"> </span>│<span style=\"color: #008080; text-decoration-color: #008080\"> </span><span style=\"color: #008000; text-decoration-color: #008000; background-color: #008000\"> x </span><span style=\"color: #008080; text-decoration-color: #008080\"> </span>│<span style=\"color: #008080; text-decoration-color: #008080\">     </span>│<span style=\"color: #008080; text-decoration-color: #008080\">     </span>│<span style=\"color: #008080; text-decoration-color: #008080\">     </span>│\n",
       "│<span style=\"color: #008080; text-decoration-color: #008080\">    7 </span>│<span style=\"color: #008080; text-decoration-color: #008080\">     </span>│<span style=\"color: #008080; text-decoration-color: #008080\"> </span><span style=\"color: #008000; text-decoration-color: #008000; background-color: #008000\"> x </span><span style=\"color: #008080; text-decoration-color: #008080\"> </span>│<span style=\"color: #008080; text-decoration-color: #008080\"> </span><span style=\"color: #008000; text-decoration-color: #008000; background-color: #008000\"> x </span><span style=\"color: #008080; text-decoration-color: #008080\"> </span>│<span style=\"color: #008080; text-decoration-color: #008080\">     </span>│<span style=\"color: #008080; text-decoration-color: #008080\">     </span>│<span style=\"color: #008080; text-decoration-color: #008080\">     </span>│\n",
       "│<span style=\"color: #008080; text-decoration-color: #008080\">    8 </span>│<span style=\"color: #008080; text-decoration-color: #008080\">     </span>│<span style=\"color: #008080; text-decoration-color: #008080\">     </span>│<span style=\"color: #008080; text-decoration-color: #008080\"> </span><span style=\"color: #008000; text-decoration-color: #008000; background-color: #008000\"> x </span><span style=\"color: #008080; text-decoration-color: #008080\"> </span>│<span style=\"color: #008080; text-decoration-color: #008080\">     </span>│<span style=\"color: #008080; text-decoration-color: #008080\">     </span>│<span style=\"color: #008080; text-decoration-color: #008080\">     </span>│\n",
       "│<span style=\"color: #008080; text-decoration-color: #008080\">    9 </span>│<span style=\"color: #008080; text-decoration-color: #008080\">     </span>│<span style=\"color: #008080; text-decoration-color: #008080\">     </span>│<span style=\"color: #008080; text-decoration-color: #008080\">     </span>│<span style=\"color: #008080; text-decoration-color: #008080\"> </span><span style=\"color: #008000; text-decoration-color: #008000; background-color: #008000\"> x </span><span style=\"color: #008080; text-decoration-color: #008080\"> </span>│<span style=\"color: #008080; text-decoration-color: #008080\">     </span>│<span style=\"color: #008080; text-decoration-color: #008080\">     </span>│\n",
       "│<span style=\"color: #008080; text-decoration-color: #008080\">   10 </span>│<span style=\"color: #008080; text-decoration-color: #008080\">     </span>│<span style=\"color: #008080; text-decoration-color: #008080\">     </span>│<span style=\"color: #008080; text-decoration-color: #008080\">     </span>│<span style=\"color: #008080; text-decoration-color: #008080\"> </span><span style=\"color: #008000; text-decoration-color: #008000; background-color: #008000\"> x </span><span style=\"color: #008080; text-decoration-color: #008080\"> </span>│<span style=\"color: #008080; text-decoration-color: #008080\">     </span>│<span style=\"color: #008080; text-decoration-color: #008080\">     </span>│\n",
       "│<span style=\"color: #008080; text-decoration-color: #008080\">   11 </span>│<span style=\"color: #008080; text-decoration-color: #008080\">     </span>│<span style=\"color: #008080; text-decoration-color: #008080\">     </span>│<span style=\"color: #008080; text-decoration-color: #008080\">     </span>│<span style=\"color: #008080; text-decoration-color: #008080\">     </span>│<span style=\"color: #008080; text-decoration-color: #008080\">     </span>│<span style=\"color: #008080; text-decoration-color: #008080\"> </span><span style=\"color: #008000; text-decoration-color: #008000; background-color: #008000\"> x </span><span style=\"color: #008080; text-decoration-color: #008080\"> </span>│\n",
       "│<span style=\"color: #008080; text-decoration-color: #008080\">   12 </span>│<span style=\"color: #008080; text-decoration-color: #008080\">     </span>│<span style=\"color: #008080; text-decoration-color: #008080\">     </span>│<span style=\"color: #008080; text-decoration-color: #008080\">     </span>│<span style=\"color: #008080; text-decoration-color: #008080\">     </span>│<span style=\"color: #008080; text-decoration-color: #008080\">     </span>│<span style=\"color: #008080; text-decoration-color: #008080\"> </span><span style=\"color: #008000; text-decoration-color: #008000; background-color: #008000\"> x </span><span style=\"color: #008080; text-decoration-color: #008080\"> </span>│\n",
       "└──────┴─────┴─────┴─────┴─────┴─────┴─────┘\n",
       "</pre>\n"
      ],
      "text/plain": [
       "\u001b[3m             Timeline for case              \u001b[0m\n",
       "\u001b[3m    6f31c4df-bba6-42cd-a3ae-24f31d5503fa    \u001b[0m\n",
       "┏━━━━━━┳━━━━━┳━━━━━┳━━━━━┳━━━━━┳━━━━━┳━━━━━┓\n",
       "┃\u001b[1m \u001b[0m\u001b[1mstep\u001b[0m\u001b[1m \u001b[0m┃\u001b[1m \u001b[0m\u001b[1m A \u001b[0m\u001b[1m \u001b[0m┃\u001b[1m \u001b[0m\u001b[1m B \u001b[0m\u001b[1m \u001b[0m┃\u001b[1m \u001b[0m\u001b[1m C \u001b[0m\u001b[1m \u001b[0m┃\u001b[1m \u001b[0m\u001b[1m D \u001b[0m\u001b[1m \u001b[0m┃\u001b[1m \u001b[0m\u001b[1m E \u001b[0m\u001b[1m \u001b[0m┃\u001b[1m \u001b[0m\u001b[1m F \u001b[0m\u001b[1m \u001b[0m┃\n",
       "┡━━━━━━╇━━━━━╇━━━━━╇━━━━━╇━━━━━╇━━━━━╇━━━━━┩\n",
       "│\u001b[36m \u001b[0m\u001b[36m   1\u001b[0m\u001b[36m \u001b[0m│\u001b[36m \u001b[0m\u001b[32;42m x \u001b[0m\u001b[36m \u001b[0m│\u001b[36m \u001b[0m\u001b[36m   \u001b[0m\u001b[36m \u001b[0m│\u001b[36m \u001b[0m\u001b[36m   \u001b[0m\u001b[36m \u001b[0m│\u001b[36m \u001b[0m\u001b[36m   \u001b[0m\u001b[36m \u001b[0m│\u001b[36m \u001b[0m\u001b[36m   \u001b[0m\u001b[36m \u001b[0m│\u001b[36m \u001b[0m\u001b[36m   \u001b[0m\u001b[36m \u001b[0m│\n",
       "│\u001b[36m \u001b[0m\u001b[36m   2\u001b[0m\u001b[36m \u001b[0m│\u001b[36m \u001b[0m\u001b[32;42m x \u001b[0m\u001b[36m \u001b[0m│\u001b[36m \u001b[0m\u001b[36m   \u001b[0m\u001b[36m \u001b[0m│\u001b[36m \u001b[0m\u001b[36m   \u001b[0m\u001b[36m \u001b[0m│\u001b[36m \u001b[0m\u001b[36m   \u001b[0m\u001b[36m \u001b[0m│\u001b[36m \u001b[0m\u001b[32;42m x \u001b[0m\u001b[36m \u001b[0m│\u001b[36m \u001b[0m\u001b[36m   \u001b[0m\u001b[36m \u001b[0m│\n",
       "│\u001b[36m \u001b[0m\u001b[36m   3\u001b[0m\u001b[36m \u001b[0m│\u001b[36m \u001b[0m\u001b[32;42m x \u001b[0m\u001b[36m \u001b[0m│\u001b[36m \u001b[0m\u001b[36m   \u001b[0m\u001b[36m \u001b[0m│\u001b[36m \u001b[0m\u001b[36m   \u001b[0m\u001b[36m \u001b[0m│\u001b[36m \u001b[0m\u001b[36m   \u001b[0m\u001b[36m \u001b[0m│\u001b[36m \u001b[0m\u001b[32;42m x \u001b[0m\u001b[36m \u001b[0m│\u001b[36m \u001b[0m\u001b[36m   \u001b[0m\u001b[36m \u001b[0m│\n",
       "│\u001b[36m \u001b[0m\u001b[36m   4\u001b[0m\u001b[36m \u001b[0m│\u001b[36m \u001b[0m\u001b[36m   \u001b[0m\u001b[36m \u001b[0m│\u001b[36m \u001b[0m\u001b[36m   \u001b[0m\u001b[36m \u001b[0m│\u001b[36m \u001b[0m\u001b[36m   \u001b[0m\u001b[36m \u001b[0m│\u001b[36m \u001b[0m\u001b[36m   \u001b[0m\u001b[36m \u001b[0m│\u001b[36m \u001b[0m\u001b[32;42m x \u001b[0m\u001b[36m \u001b[0m│\u001b[36m \u001b[0m\u001b[36m   \u001b[0m\u001b[36m \u001b[0m│\n",
       "│\u001b[36m \u001b[0m\u001b[36m   5\u001b[0m\u001b[36m \u001b[0m│\u001b[36m \u001b[0m\u001b[36m   \u001b[0m\u001b[36m \u001b[0m│\u001b[36m \u001b[0m\u001b[32;42m x \u001b[0m\u001b[36m \u001b[0m│\u001b[36m \u001b[0m\u001b[36m   \u001b[0m\u001b[36m \u001b[0m│\u001b[36m \u001b[0m\u001b[36m   \u001b[0m\u001b[36m \u001b[0m│\u001b[36m \u001b[0m\u001b[36m   \u001b[0m\u001b[36m \u001b[0m│\u001b[36m \u001b[0m\u001b[36m   \u001b[0m\u001b[36m \u001b[0m│\n",
       "│\u001b[36m \u001b[0m\u001b[36m   6\u001b[0m\u001b[36m \u001b[0m│\u001b[36m \u001b[0m\u001b[36m   \u001b[0m\u001b[36m \u001b[0m│\u001b[36m \u001b[0m\u001b[32;42m x \u001b[0m\u001b[36m \u001b[0m│\u001b[36m \u001b[0m\u001b[32;42m x \u001b[0m\u001b[36m \u001b[0m│\u001b[36m \u001b[0m\u001b[36m   \u001b[0m\u001b[36m \u001b[0m│\u001b[36m \u001b[0m\u001b[36m   \u001b[0m\u001b[36m \u001b[0m│\u001b[36m \u001b[0m\u001b[36m   \u001b[0m\u001b[36m \u001b[0m│\n",
       "│\u001b[36m \u001b[0m\u001b[36m   7\u001b[0m\u001b[36m \u001b[0m│\u001b[36m \u001b[0m\u001b[36m   \u001b[0m\u001b[36m \u001b[0m│\u001b[36m \u001b[0m\u001b[32;42m x \u001b[0m\u001b[36m \u001b[0m│\u001b[36m \u001b[0m\u001b[32;42m x \u001b[0m\u001b[36m \u001b[0m│\u001b[36m \u001b[0m\u001b[36m   \u001b[0m\u001b[36m \u001b[0m│\u001b[36m \u001b[0m\u001b[36m   \u001b[0m\u001b[36m \u001b[0m│\u001b[36m \u001b[0m\u001b[36m   \u001b[0m\u001b[36m \u001b[0m│\n",
       "│\u001b[36m \u001b[0m\u001b[36m   8\u001b[0m\u001b[36m \u001b[0m│\u001b[36m \u001b[0m\u001b[36m   \u001b[0m\u001b[36m \u001b[0m│\u001b[36m \u001b[0m\u001b[36m   \u001b[0m\u001b[36m \u001b[0m│\u001b[36m \u001b[0m\u001b[32;42m x \u001b[0m\u001b[36m \u001b[0m│\u001b[36m \u001b[0m\u001b[36m   \u001b[0m\u001b[36m \u001b[0m│\u001b[36m \u001b[0m\u001b[36m   \u001b[0m\u001b[36m \u001b[0m│\u001b[36m \u001b[0m\u001b[36m   \u001b[0m\u001b[36m \u001b[0m│\n",
       "│\u001b[36m \u001b[0m\u001b[36m   9\u001b[0m\u001b[36m \u001b[0m│\u001b[36m \u001b[0m\u001b[36m   \u001b[0m\u001b[36m \u001b[0m│\u001b[36m \u001b[0m\u001b[36m   \u001b[0m\u001b[36m \u001b[0m│\u001b[36m \u001b[0m\u001b[36m   \u001b[0m\u001b[36m \u001b[0m│\u001b[36m \u001b[0m\u001b[32;42m x \u001b[0m\u001b[36m \u001b[0m│\u001b[36m \u001b[0m\u001b[36m   \u001b[0m\u001b[36m \u001b[0m│\u001b[36m \u001b[0m\u001b[36m   \u001b[0m\u001b[36m \u001b[0m│\n",
       "│\u001b[36m \u001b[0m\u001b[36m  10\u001b[0m\u001b[36m \u001b[0m│\u001b[36m \u001b[0m\u001b[36m   \u001b[0m\u001b[36m \u001b[0m│\u001b[36m \u001b[0m\u001b[36m   \u001b[0m\u001b[36m \u001b[0m│\u001b[36m \u001b[0m\u001b[36m   \u001b[0m\u001b[36m \u001b[0m│\u001b[36m \u001b[0m\u001b[32;42m x \u001b[0m\u001b[36m \u001b[0m│\u001b[36m \u001b[0m\u001b[36m   \u001b[0m\u001b[36m \u001b[0m│\u001b[36m \u001b[0m\u001b[36m   \u001b[0m\u001b[36m \u001b[0m│\n",
       "│\u001b[36m \u001b[0m\u001b[36m  11\u001b[0m\u001b[36m \u001b[0m│\u001b[36m \u001b[0m\u001b[36m   \u001b[0m\u001b[36m \u001b[0m│\u001b[36m \u001b[0m\u001b[36m   \u001b[0m\u001b[36m \u001b[0m│\u001b[36m \u001b[0m\u001b[36m   \u001b[0m\u001b[36m \u001b[0m│\u001b[36m \u001b[0m\u001b[36m   \u001b[0m\u001b[36m \u001b[0m│\u001b[36m \u001b[0m\u001b[36m   \u001b[0m\u001b[36m \u001b[0m│\u001b[36m \u001b[0m\u001b[32;42m x \u001b[0m\u001b[36m \u001b[0m│\n",
       "│\u001b[36m \u001b[0m\u001b[36m  12\u001b[0m\u001b[36m \u001b[0m│\u001b[36m \u001b[0m\u001b[36m   \u001b[0m\u001b[36m \u001b[0m│\u001b[36m \u001b[0m\u001b[36m   \u001b[0m\u001b[36m \u001b[0m│\u001b[36m \u001b[0m\u001b[36m   \u001b[0m\u001b[36m \u001b[0m│\u001b[36m \u001b[0m\u001b[36m   \u001b[0m\u001b[36m \u001b[0m│\u001b[36m \u001b[0m\u001b[36m   \u001b[0m\u001b[36m \u001b[0m│\u001b[36m \u001b[0m\u001b[32;42m x \u001b[0m\u001b[36m \u001b[0m│\n",
       "└──────┴─────┴─────┴─────┴─────┴─────┴─────┘\n"
      ]
     },
     "metadata": {},
     "output_type": "display_data"
    },
    {
     "data": {
      "text/html": [
       "<pre style=\"white-space:pre;overflow-x:auto;line-height:normal;font-family:Menlo,'DejaVu Sans Mono',consolas,'Courier New',monospace\"></pre>\n"
      ],
      "text/plain": []
     },
     "metadata": {},
     "output_type": "display_data"
    },
    {
     "name": "stdout",
     "output_type": "stream",
     "text": [
      "\n"
     ]
    }
   ],
   "source": [
    "result = gt.run(\n",
    "  \"dag\",\n",
    "  cases,\n",
    ")"
   ]
  },
  {
   "cell_type": "markdown",
   "id": "a65930f6",
   "metadata": {},
   "source": [
    "We can rerun this example with a different model, this time the `flakey` mock, which alternately returns the correct answer, returns \"hello world\", and raises an exception. The mock models are good for debugging new pipelines locally, before connecting to a real model."
   ]
  },
  {
   "cell_type": "code",
   "execution_count": 5,
   "id": "da94c282",
   "metadata": {},
   "outputs": [
    {
     "data": {
      "text/html": [
       "<pre style=\"white-space:pre;overflow-x:auto;line-height:normal;font-family:Menlo,'DejaVu Sans Mono',consolas,'Courier New',monospace\"></pre>\n"
      ],
      "text/plain": []
     },
     "metadata": {},
     "output_type": "display_data"
    },
    {
     "name": "stdout",
     "output_type": "stream",
     "text": [
      "\u001b[3m             Summary for 8236c48e-ce5a-4f9d-9310-a09a9d957570              \u001b[0m\n",
      "┏━━━━━━━━┳━━━━━━━━━━┳━━━━━━┳━━━━━━━━━━━━━┳━━━━━━━━━━━━━━━━━━━━━━━━━━━━━━━━┓\n",
      "┃\u001b[1m \u001b[0m\u001b[1m    id\u001b[0m\u001b[1m \u001b[0m┃\u001b[1m \u001b[0m\u001b[1mstatus  \u001b[0m\u001b[1m \u001b[0m┃\u001b[1m \u001b[0m\u001b[1mcost\u001b[0m\u001b[1m \u001b[0m┃\u001b[1m \u001b[0m\u001b[1mkeywords   \u001b[0m\u001b[1m \u001b[0m┃\u001b[1m \u001b[0m\u001b[1muser                          \u001b[0m\u001b[1m \u001b[0m┃\n",
      "┡━━━━━━━━╇━━━━━━━━━━╇━━━━━━╇━━━━━━━━━━━━━╇━━━━━━━━━━━━━━━━━━━━━━━━━━━━━━━━┩\n",
      "│\u001b[36m \u001b[0m\u001b[36m6f3.00\u001b[0m\u001b[36m \u001b[0m│\u001b[35m \u001b[0m\u001b[1;32mCOMPLETE\u001b[0m\u001b[35m \u001b[0m│ \u001b[1;32m0.00\u001b[0m │ numbers     │ 1+1                            │\n",
      "│\u001b[36m \u001b[0m\u001b[36mceb.00\u001b[0m\u001b[36m \u001b[0m│\u001b[35m \u001b[0m\u001b[1;31mERROR   \u001b[0m\u001b[35m \u001b[0m│ \u001b[1;31m    \u001b[0m │ text        │ one hundred two divided by two │\n",
      "│\u001b[36m \u001b[0m\u001b[36m178.00\u001b[0m\u001b[36m \u001b[0m│\u001b[35m \u001b[0m\u001b[1;31mERROR   \u001b[0m\u001b[35m \u001b[0m│ \u001b[1;31m    \u001b[0m │ hexidecimal │ ff + a                         │\n",
      "└────────┴──────────┴──────┴─────────────┴────────────────────────────────┘\n",
      "\n",
      "Total: \u001b[1;36m3\u001b[0m\n",
      "Complete: \u001b[1;36m1\u001b[0m/\u001b[1;36m3\u001b[0m \u001b[1m(\u001b[0m\u001b[1;36m33.33\u001b[0m%\u001b[1m)\u001b[0m\n",
      "Error: \u001b[1;36m2\u001b[0m/\u001b[1;36m3\u001b[0m \u001b[1m(\u001b[0m\u001b[1;36m66.67\u001b[0m%\u001b[1m)\u001b[0m\n",
      "Passed: \u001b[1;36m1\u001b[0m/\u001b[1;36m3\u001b[0m \u001b[1m(\u001b[0m\u001b[1;36m33.33\u001b[0m%\u001b[1m)\u001b[0m\n",
      "Failed: \u001b[1;36m0\u001b[0m/\u001b[1;36m3\u001b[0m \u001b[1m(\u001b[0m\u001b[1;36m0.00\u001b[0m%\u001b[1m)\u001b[0m\n",
      "\n",
      "\n",
      "Results written to logs\\8236c48e-ce5a-4f9d-9310-a09a9d957570.json\n"
     ]
    },
    {
     "data": {
      "text/html": [
       "<pre style=\"white-space:pre;overflow-x:auto;line-height:normal;font-family:Menlo,'DejaVu Sans Mono',consolas,'Courier New',monospace\"></pre>\n"
      ],
      "text/plain": []
     },
     "metadata": {},
     "output_type": "display_data"
    },
    {
     "data": {
      "text/markdown": [
       "## Run: 8236c48e-ce5a-4f9d-9310-a09a9d957570\n",
       "## Case: 6f3 - PASSED\n",
       "**Keywords:** numbers  \n",
       "\n",
       "\n",
       "**system:**\n",
       "You are a desktop calculator that computes the value of mathematical expressions.\n",
       "The input is base 10.\n",
       "Your output should be just a base 10 numerical result.\n",
       "\n",
       "**user:** _1+1_\n",
       "\n",
       "**assistant:**\n",
       "2.0\n",
       "\n",
       "\n",
       "## Case: ceb - FAILED\n",
       "**Keywords:** text  \n",
       "\n",
       "\n",
       "### Turn 1: **ERROR**  \n",
       "Error: Context: Extracting numerical answer from LLM response.\n",
       "Error: could not convert string to float: 'hello world'\n",
       "\n",
       "~~~\n",
       "Traceback: Traceback (most recent call last):\n",
       "  File \"C:\\git\\llm-tools\\gotaglio\\gotaglio\\director2.py\", line 145, in process_one_case\n",
       "    await run_dag(dag, result)\n",
       "  File \"C:\\git\\llm-tools\\gotaglio\\gotaglio\\dag.py\", line 129, in run_dag\n",
       "    (name, result) = task.result()\n",
       "                     ^^^^^^^^^^^^^\n",
       "  File \"C:\\Users\\mhop\\AppData\\Local\\Programs\\Python\\Python312\\Lib\\asyncio\\futures.py\", line 202, in result\n",
       "    raise self._exception.with_traceback(self._exception_tb)\n",
       "  File \"C:\\Users\\mhop\\AppData\\Local\\Programs\\Python\\Python312\\Lib\\asyncio\\tasks.py\", line 314, in \n",
       "__step_run_and_handle_result\n",
       "    result = coro.send(None)\n",
       "             ^^^^^^^^^^^^^^^\n",
       "  File \"C:\\git\\llm-tools\\gotaglio\\gotaglio\\dag.py\", line 95, in run_task\n",
       "    raise e\n",
       "  File \"C:\\git\\llm-tools\\gotaglio\\gotaglio\\dag.py\", line 87, in run_task\n",
       "    result = await dag[\"function\"](context)\n",
       "             ^^^^^^^^^^^^^^^^^^^^^^^^^^^^^^^^^^^^\n",
       "  File \"c:\\git\\llm-tools\\gotaglio\\samples2\\calc\\calc.py\", line 100, in extract\n",
       "    return float(context[\"stages\"][\"infer\"])\n",
       "           ^^^^^^^^^^^^^^^^^^^^^^^^^^^^^^^^^\n",
       "ValueError: could not convert string to float: 'hello world'\n",
       "\n",
       "Time: 2025-08-13 21:56:22.801577+00:00\n",
       "~~~\n",
       "## Case: 178 - FAILED\n",
       "**Keywords:** hexidecimal  \n",
       "\n",
       "\n",
       "### Turn 1: **ERROR**  \n",
       "Error: Error: Flakey model failed\n",
       "\n",
       "~~~\n",
       "Traceback: Traceback (most recent call last):\n",
       "  File \"C:\\git\\llm-tools\\gotaglio\\gotaglio\\director2.py\", line 145, in process_one_case\n",
       "    await run_dag(dag, result)\n",
       "  File \"C:\\git\\llm-tools\\gotaglio\\gotaglio\\dag.py\", line 129, in run_dag\n",
       "    (name, result) = task.result()\n",
       "                     ^^^^^^^^^^^^^\n",
       "  File \"C:\\Users\\mhop\\AppData\\Local\\Programs\\Python\\Python312\\Lib\\asyncio\\futures.py\", line 202, in result\n",
       "    raise self._exception.with_traceback(self._exception_tb)\n",
       "  File \"C:\\Users\\mhop\\AppData\\Local\\Programs\\Python\\Python312\\Lib\\asyncio\\tasks.py\", line 314, in \n",
       "__step_run_and_handle_result\n",
       "    result = coro.send(None)\n",
       "             ^^^^^^^^^^^^^^^\n",
       "  File \"C:\\git\\llm-tools\\gotaglio\\gotaglio\\dag.py\", line 95, in run_task\n",
       "    raise e\n",
       "  File \"C:\\git\\llm-tools\\gotaglio\\gotaglio\\dag.py\", line 87, in run_task\n",
       "    result = await dag[\"function\"](context)\n",
       "             ^^^^^^^^^^^^^^^^^^^^^^^^^^^^^^^^^^^^\n",
       "  File \"c:\\git\\llm-tools\\gotaglio\\samples2\\calc\\calc.py\", line 93, in infer\n",
       "    return await model.infer(context[\"stages\"][\"prepare\"], context)\n",
       "           ^^^^^^^^^^^^^^^^^^^^^^^^^^^^^^^^^^^^^^^^^^^^^^^^^^^^^^^^\n",
       "  File \"C:\\git\\llm-tools\\gotaglio\\gotaglio\\mocks.py\", line 27, in infer\n",
       "    raise Exception(\"Flakey model failed\")\n",
       "Exception: Flakey model failed\n",
       "\n",
       "Time: 2025-08-13 21:56:22.804577+00:00\n",
       "~~~"
      ],
      "text/plain": [
       "<IPython.core.display.Markdown object>"
      ]
     },
     "metadata": {},
     "output_type": "display_data"
    }
   ],
   "source": [
    "result2 = gt.rerun(\n",
    "  result,\n",
    "  {\n",
    "    \"infer.model.name\": \"flakey\"\n",
    "  },\n",
    "  save=True\n",
    ")\n",
    "gt.format(result2)"
   ]
  },
  {
   "cell_type": "markdown",
   "id": "e489e909",
   "metadata": {},
   "source": [
    "Note that we can use the term `\"latest\"` to refer to the most recently generated runlog.\n",
    "We could also pass the first few characters of a run's UUID or we could pass the result\n",
    "object (e.g. `result` or `result2`) directly."
   ]
  },
  {
   "cell_type": "code",
   "execution_count": 6,
   "id": "551be824",
   "metadata": {},
   "outputs": [
    {
     "data": {
      "text/html": [
       "<pre style=\"white-space:pre;overflow-x:auto;line-height:normal;font-family:Menlo,'DejaVu Sans Mono',consolas,'Courier New',monospace\"></pre>\n"
      ],
      "text/plain": []
     },
     "metadata": {},
     "output_type": "display_data"
    },
    {
     "name": "stdout",
     "output_type": "stream",
     "text": [
      "\u001b[3m             Summary for 8236c48e-ce5a-4f9d-9310-a09a9d957570              \u001b[0m\n",
      "┏━━━━━━━━┳━━━━━━━━━━┳━━━━━━┳━━━━━━━━━━━━━┳━━━━━━━━━━━━━━━━━━━━━━━━━━━━━━━━┓\n",
      "┃\u001b[1m \u001b[0m\u001b[1m    id\u001b[0m\u001b[1m \u001b[0m┃\u001b[1m \u001b[0m\u001b[1mstatus  \u001b[0m\u001b[1m \u001b[0m┃\u001b[1m \u001b[0m\u001b[1mcost\u001b[0m\u001b[1m \u001b[0m┃\u001b[1m \u001b[0m\u001b[1mkeywords   \u001b[0m\u001b[1m \u001b[0m┃\u001b[1m \u001b[0m\u001b[1muser                          \u001b[0m\u001b[1m \u001b[0m┃\n",
      "┡━━━━━━━━╇━━━━━━━━━━╇━━━━━━╇━━━━━━━━━━━━━╇━━━━━━━━━━━━━━━━━━━━━━━━━━━━━━━━┩\n",
      "│\u001b[36m \u001b[0m\u001b[36m6f3.00\u001b[0m\u001b[36m \u001b[0m│\u001b[35m \u001b[0m\u001b[1;32mCOMPLETE\u001b[0m\u001b[35m \u001b[0m│ \u001b[1;32m0.00\u001b[0m │ numbers     │ 1+1                            │\n",
      "│\u001b[36m \u001b[0m\u001b[36mceb.00\u001b[0m\u001b[36m \u001b[0m│\u001b[35m \u001b[0m\u001b[1;31mERROR   \u001b[0m\u001b[35m \u001b[0m│ \u001b[1;31m    \u001b[0m │ text        │ one hundred two divided by two │\n",
      "│\u001b[36m \u001b[0m\u001b[36m178.00\u001b[0m\u001b[36m \u001b[0m│\u001b[35m \u001b[0m\u001b[1;31mERROR   \u001b[0m\u001b[35m \u001b[0m│ \u001b[1;31m    \u001b[0m │ hexidecimal │ ff + a                         │\n",
      "└────────┴──────────┴──────┴─────────────┴────────────────────────────────┘\n",
      "\n",
      "Total: \u001b[1;36m3\u001b[0m\n",
      "Complete: \u001b[1;36m1\u001b[0m/\u001b[1;36m3\u001b[0m \u001b[1m(\u001b[0m\u001b[1;36m33.33\u001b[0m%\u001b[1m)\u001b[0m\n",
      "Error: \u001b[1;36m2\u001b[0m/\u001b[1;36m3\u001b[0m \u001b[1m(\u001b[0m\u001b[1;36m66.67\u001b[0m%\u001b[1m)\u001b[0m\n",
      "Passed: \u001b[1;36m1\u001b[0m/\u001b[1;36m3\u001b[0m \u001b[1m(\u001b[0m\u001b[1;36m33.33\u001b[0m%\u001b[1m)\u001b[0m\n",
      "Failed: \u001b[1;36m0\u001b[0m/\u001b[1;36m3\u001b[0m \u001b[1m(\u001b[0m\u001b[1;36m0.00\u001b[0m%\u001b[1m)\u001b[0m\n",
      "\n",
      "\n"
     ]
    }
   ],
   "source": [
    "gt.summarize(\"latest\")"
   ]
  }
 ],
 "metadata": {
  "kernelspec": {
   "display_name": ".venv (3.12.10)",
   "language": "python",
   "name": "python3"
  },
  "language_info": {
   "codemirror_mode": {
    "name": "ipython",
    "version": 3
   },
   "file_extension": ".py",
   "mimetype": "text/x-python",
   "name": "python",
   "nbconvert_exporter": "python",
   "pygments_lexer": "ipython3",
   "version": "3.12.10"
  }
 },
 "nbformat": 4,
 "nbformat_minor": 5
}
