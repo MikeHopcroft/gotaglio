{
 "cells": [
  {
   "cell_type": "markdown",
   "metadata": {},
   "source": [
    "# Simple Sample Notebook"
   ]
  },
  {
   "cell_type": "markdown",
   "metadata": {},
   "source": [
    "Define your pipeline. In this case we're using the SimplePipeline sample."
   ]
  },
  {
   "cell_type": "code",
   "execution_count": 1,
   "metadata": {},
   "outputs": [],
   "source": [
    "from simple import SimplePipeline\n",
    "# from gotaglio.gotag import Gotaglio"
   ]
  },
  {
   "cell_type": "markdown",
   "metadata": {},
   "source": [
    "Define your test cases."
   ]
  },
  {
   "cell_type": "code",
   "execution_count": 2,
   "metadata": {},
   "outputs": [],
   "source": [
    "cases = [\n",
    "  {\n",
    "    \"uuid\": \"ed6ceb29-b4b9-427c-99b8-635984198a59\",\n",
    "    \"keywords\": [\"mutli-turn\"],\n",
    "    \"value\": 0,\n",
    "    \"turns\": [\n",
    "      { \"user\": \"1+1\", \"base\": 10, \"answer\": 2 },\n",
    "      { \"user\": \"add one hundred\", \"base\": 10, \"answer\": 102 },\n",
    "      { \"user\": \"divide by two\", \"base\": 10, \"answer\": 51 }\n",
    "    ]\n",
    "  }\n",
    "]"
   ]
  },
  {
   "cell_type": "markdown",
   "metadata": {},
   "source": [
    "The next cell reloads packages you may be editing. You must run this cell after each edit to `gotaglio.gotag` or `simple.SimplePipeline`."
   ]
  },
  {
   "cell_type": "code",
   "execution_count": 21,
   "metadata": {},
   "outputs": [],
   "source": [
    "import nest_asyncio\n",
    "import importlib\n",
    "from gotaglio import gotag\n",
    "from gotaglio import shared\n",
    "import simple\n",
    "\n",
    "# Necessary for running asyncio in Jupyter\n",
    "nest_asyncio.apply()\n",
    "\n",
    "# Reload the gotag module\n",
    "importlib.reload(gotag)\n",
    "\n",
    "# Reload the SimplePipeline module\n",
    "importlib.reload(simple)\n",
    "# Reload the SimplePipeline module\n",
    "\n",
    "importlib.reload(shared)\n",
    "\n",
    "from gotaglio.gotag import Gotaglio\n",
    "\n",
    "gt = Gotaglio([simple.SimplePipeline])"
   ]
  },
  {
   "cell_type": "markdown",
   "metadata": {},
   "source": [
    "Run a pipeline and store the result in `runlog1`."
   ]
  },
  {
   "cell_type": "code",
   "execution_count": 22,
   "metadata": {},
   "outputs": [
    {
     "data": {
      "text/html": [
       "<pre style=\"white-space:pre;overflow-x:auto;line-height:normal;font-family:Menlo,'DejaVu Sans Mono',consolas,'Courier New',monospace\"></pre>\n"
      ],
      "text/plain": []
     },
     "metadata": {},
     "output_type": "display_data"
    },
    {
     "name": "stdout",
     "output_type": "stream",
     "text": [
      "\u001b[3m      Summary for 77a6bbba-9b81-4835-82eb-460fa5b492fd      \u001b[0m\n",
      "┏━━━━━━━━┳━━━━━━━━━━┳━━━━━━━┳━━━━━━━━━━━━┳━━━━━━━━━━━━━━━━━┓\n",
      "┃\u001b[1m \u001b[0m\u001b[1m    id\u001b[0m\u001b[1m \u001b[0m┃\u001b[1m \u001b[0m\u001b[1mrun     \u001b[0m\u001b[1m \u001b[0m┃\u001b[1m \u001b[0m\u001b[1mscore\u001b[0m\u001b[1m \u001b[0m┃\u001b[1m \u001b[0m\u001b[1mkeywords  \u001b[0m\u001b[1m \u001b[0m┃\u001b[1m \u001b[0m\u001b[1muser           \u001b[0m\u001b[1m \u001b[0m┃\n",
      "┡━━━━━━━━╇━━━━━━━━━━╇━━━━━━━╇━━━━━━━━━━━━╇━━━━━━━━━━━━━━━━━┩\n",
      "│\u001b[36m \u001b[0m\u001b[36med6.00\u001b[0m\u001b[36m \u001b[0m│\u001b[35m \u001b[0m\u001b[1;32mCOMPLETE\u001b[0m\u001b[35m \u001b[0m│\u001b[32m \u001b[0m\u001b[1;32m 0.00\u001b[0m\u001b[32m \u001b[0m│\u001b[32m \u001b[0m\u001b[32mmutli-turn\u001b[0m\u001b[32m \u001b[0m│\u001b[32m \u001b[0m\u001b[32m1+1            \u001b[0m\u001b[32m \u001b[0m│\n",
      "│\u001b[36m \u001b[0m\u001b[36med6.01\u001b[0m\u001b[36m \u001b[0m│\u001b[35m \u001b[0m\u001b[1;32mCOMPLETE\u001b[0m\u001b[35m \u001b[0m│\u001b[32m \u001b[0m\u001b[1;32m 0.00\u001b[0m\u001b[32m \u001b[0m│\u001b[32m \u001b[0m\u001b[32mmutli-turn\u001b[0m\u001b[32m \u001b[0m│\u001b[32m \u001b[0m\u001b[32madd one hundred\u001b[0m\u001b[32m \u001b[0m│\n",
      "│\u001b[36m \u001b[0m\u001b[36med6.02\u001b[0m\u001b[36m \u001b[0m│\u001b[35m \u001b[0m\u001b[1;32mCOMPLETE\u001b[0m\u001b[35m \u001b[0m│\u001b[32m \u001b[0m\u001b[1;32m 0.00\u001b[0m\u001b[32m \u001b[0m│\u001b[32m \u001b[0m\u001b[32mmutli-turn\u001b[0m\u001b[32m \u001b[0m│\u001b[32m \u001b[0m\u001b[32mdivide by two  \u001b[0m\u001b[32m \u001b[0m│\n",
      "└────────┴──────────┴───────┴────────────┴─────────────────┘\n",
      "\n",
      "Total: \u001b[1;36m1\u001b[0m\n",
      "Complete: \u001b[1;36m3\u001b[0m/\u001b[1;36m1\u001b[0m \u001b[1m(\u001b[0m\u001b[1;36m300.00\u001b[0m%\u001b[1m)\u001b[0m\n",
      "Error: \u001b[1;36m0\u001b[0m/\u001b[1;36m1\u001b[0m \u001b[1m(\u001b[0m\u001b[1;36m0.00\u001b[0m%\u001b[1m)\u001b[0m\n",
      "Passed: \u001b[1;36m3\u001b[0m/\u001b[1;36m1\u001b[0m \u001b[1m(\u001b[0m\u001b[1;36m300.00\u001b[0m%\u001b[1m)\u001b[0m\n",
      "Failed: \u001b[1;36m0\u001b[0m/\u001b[1;36m1\u001b[0m \u001b[1m(\u001b[0m\u001b[1;36m0.00\u001b[0m%\u001b[1m)\u001b[0m\n",
      "\n",
      "\n",
      "Results written to logs\\77a6bbba-9b81-4835-82eb-460fa5b492fd.json\n"
     ]
    },
    {
     "data": {
      "text/html": [
       "<pre style=\"white-space:pre;overflow-x:auto;line-height:normal;font-family:Menlo,'DejaVu Sans Mono',consolas,'Courier New',monospace\"></pre>\n"
      ],
      "text/plain": []
     },
     "metadata": {},
     "output_type": "display_data"
    },
    {
     "data": {
      "text/markdown": [
       "## Run: 77a6bbba-9b81-4835-82eb-460fa5b492fd\n",
       "## Case: ed6 (3 turns)\n",
       "**Keywords:** mutli-turn  \n",
       "\n",
       "\n",
       "### Turn 1: **PASSED**  \n",
       "\n",
       "Input tokens: 34, output tokens: 1\n",
       "\n",
       "**system:**\n",
       "```json\n",
       "You are a desktop calculator that computes the value of mathematical expressions.\n",
       "The input is base .\n",
       "Your output should be just a base 10 numerical result.\n",
       "```\n",
       "\n",
       "**assistant:**\n",
       "```json\n",
       "0\n",
       "```\n",
       "\n",
       "**user:** _1+1_\n",
       "\n",
       "**assistant:**\n",
       "```json\n",
       "2.0\n",
       "```\n",
       "\n",
       "\n",
       "---\n",
       "### Turn 2: **PASSED**  \n",
       "\n",
       "Input tokens: 36, output tokens: 3\n",
       "\n",
       "**system:**\n",
       "```json\n",
       "You are a desktop calculator that computes the value of mathematical expressions.\n",
       "The input is base .\n",
       "Your output should be just a base 10 numerical result.\n",
       "```\n",
       "\n",
       "**assistant:**\n",
       "```json\n",
       "2.0\n",
       "```\n",
       "\n",
       "**user:** _add one hundred_\n",
       "\n",
       "**assistant:**\n",
       "```json\n",
       "102.0\n",
       "```\n",
       "\n",
       "\n",
       "---\n",
       "### Turn 3: **PASSED**  \n",
       "\n",
       "Input tokens: 36, output tokens: 3\n",
       "\n",
       "**system:**\n",
       "```json\n",
       "You are a desktop calculator that computes the value of mathematical expressions.\n",
       "The input is base .\n",
       "Your output should be just a base 10 numerical result.\n",
       "```\n",
       "\n",
       "**assistant:**\n",
       "```json\n",
       "102.0\n",
       "```\n",
       "\n",
       "**user:** _divide by two_\n",
       "\n",
       "**assistant:**\n",
       "```json\n",
       "51.0\n",
       "```\n",
       "\n"
      ],
      "text/plain": [
       "<IPython.core.display.Markdown object>"
      ]
     },
     "metadata": {},
     "output_type": "display_data"
    }
   ],
   "source": [
    "# runlog1 = gt.run(\"simple\", cases, {\"prepare.template\": \"template.txt\", \"infer.model.name\": \"perfect\"},  save=True)\n",
    "result = gt.run(\"simple\", cases, {\"prepare.template\": \"template.txt\", \"infer.model.name\": \"gpt4o\"},  save=True)\n",
    "gt.format(result)"
   ]
  },
  {
   "cell_type": "markdown",
   "metadata": {},
   "source": [
    "Rerun an experiment with a different model and store the runlog in `runlog2`."
   ]
  },
  {
   "cell_type": "code",
   "execution_count": null,
   "metadata": {},
   "outputs": [],
   "source": [
    "runlog2 = gt.rerun(runlog1, {\"prepare.template\": \"template.txt\", \"infer.model.name\": \"flakey\"})"
   ]
  },
  {
   "cell_type": "code",
   "execution_count": null,
   "metadata": {},
   "outputs": [],
   "source": [
    "gt.format(runlog2)"
   ]
  },
  {
   "cell_type": "code",
   "execution_count": null,
   "metadata": {},
   "outputs": [],
   "source": [
    "gt.summarize(runlog2)"
   ]
  },
  {
   "cell_type": "code",
   "execution_count": null,
   "metadata": {},
   "outputs": [],
   "source": [
    "gt.summarize(\"latest\")"
   ]
  },
  {
   "cell_type": "code",
   "execution_count": null,
   "metadata": {},
   "outputs": [],
   "source": [
    "gt.compare(runlog1, runlog2)"
   ]
  },
  {
   "cell_type": "code",
   "execution_count": null,
   "metadata": {},
   "outputs": [],
   "source": [
    "gt.add_ids(cases)"
   ]
  },
  {
   "cell_type": "code",
   "execution_count": null,
   "metadata": {},
   "outputs": [],
   "source": [
    "from gotaglio.gotag import is_running_in_notebook\n",
    "\n",
    "is_running_in_notebook()"
   ]
  }
 ],
 "metadata": {
  "kernelspec": {
   "display_name": ".venv (3.12.8)",
   "language": "python",
   "name": "python3"
  },
  "language_info": {
   "codemirror_mode": {
    "name": "ipython",
    "version": 3
   },
   "file_extension": ".py",
   "mimetype": "text/x-python",
   "name": "python",
   "nbconvert_exporter": "python",
   "pygments_lexer": "ipython3",
   "version": "3.12.10"
  }
 },
 "nbformat": 4,
 "nbformat_minor": 2
}
