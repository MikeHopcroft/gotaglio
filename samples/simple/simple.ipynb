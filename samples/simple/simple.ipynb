{
 "cells": [
  {
   "cell_type": "markdown",
   "metadata": {},
   "source": [
    "# Simple Sample Notebook"
   ]
  },
  {
   "cell_type": "markdown",
   "metadata": {},
   "source": [
    "Define your pipeline. In this case we're using the SimplePipeline sample."
   ]
  },
  {
   "cell_type": "code",
   "execution_count": 1,
   "metadata": {},
   "outputs": [],
   "source": [
    "from simple import SimplePipeline\n",
    "# from gotaglio.gotag import Gotaglio"
   ]
  },
  {
   "cell_type": "markdown",
   "metadata": {},
   "source": [
    "Define your test cases."
   ]
  },
  {
   "cell_type": "code",
   "execution_count": 2,
   "metadata": {},
   "outputs": [],
   "source": [
    "cases = [\n",
    "  {\n",
    "    \"uuid\": \"ed6ceb29-b4b9-427c-99b8-635984198a59\",\n",
    "    \"keywords\": [\n",
    "      \"p0\",\n",
    "      \"addition\"\n",
    "    ],\n",
    "    \"user\": \"1+1\",\n",
    "    \"base\": 10,\n",
    "    \"answer\": 2\n",
    "  },\n",
    "  {\n",
    "    \"uuid\": \"e0936e92-9abb-4fdb-8907-f17e8d40b1fd\",\n",
    "    \"keywords\": [\n",
    "      \"p0\",\n",
    "      \"addition\",\n",
    "      \"multiplication\"\n",
    "    ],\n",
    "    \"user\": \"1 + 2 * 3\",\n",
    "    \"base\": 10,\n",
    "    \"answer\": 7\n",
    "  },\n",
    "  {\n",
    "    \"uuid\": \"e86add04-88e2-42e0-b37e-af137868eec7\",\n",
    "    \"keywords\": [\n",
    "      \"division, hexidecimal\"\n",
    "    ],\n",
    "    \"user\": \"a0 / 4\",\n",
    "    \"base\": 16,\n",
    "    \"answer\": 40\n",
    "  },\n",
    "  {\n",
    "    \"uuid\": \"d739e6a7-70d4-42d8-9f4b-7438529ebadd\",\n",
    "    \"keywords\": [\n",
    "      \"division, hexidecimal, fails\"\n",
    "    ],\n",
    "    \"user\": \"a1 / 4\",\n",
    "    \"base\": 16,\n",
    "    \"answer\": 40.25\n",
    "  }\n",
    "]"
   ]
  },
  {
   "cell_type": "markdown",
   "metadata": {},
   "source": [
    "The next cell reloads packages you may be editing. You must run this cell after each edit to `gotaglio.gotag` or `simple.SimplePipeline`."
   ]
  },
  {
   "cell_type": "code",
   "execution_count": 3,
   "metadata": {},
   "outputs": [],
   "source": [
    "import nest_asyncio\n",
    "import importlib\n",
    "from gotaglio import gotag\n",
    "from gotaglio import shared\n",
    "import simple\n",
    "\n",
    "nest_asyncio.apply()\n",
    "\n",
    "# Reload the gotag module\n",
    "importlib.reload(gotag)\n",
    "\n",
    "# Reload the SimplePipeline module\n",
    "importlib.reload(simple)\n",
    "# Reload the SimplePipeline module\n",
    "\n",
    "importlib.reload(shared)\n",
    "\n",
    "from gotaglio.gotag import Gotaglio\n",
    "\n",
    "gt = Gotaglio([simple.SimplePipeline])"
   ]
  },
  {
   "cell_type": "markdown",
   "metadata": {},
   "source": [
    "Run a pipeline and store the result in `runlog1`."
   ]
  },
  {
   "cell_type": "code",
   "execution_count": 4,
   "metadata": {},
   "outputs": [],
   "source": [
    "runlog1 = gt.run(\"simple\", cases, {\"prepare.template\": \"template.txt\", \"infer.model.name\": \"perfect\"})"
   ]
  },
  {
   "cell_type": "markdown",
   "metadata": {},
   "source": [
    "Rerun an experiment with a different model and store the runlog in `runlog2`."
   ]
  },
  {
   "cell_type": "code",
   "execution_count": 5,
   "metadata": {},
   "outputs": [],
   "source": [
    "runlog2 = gt.rerun(runlog1, {\"prepare.template\": \"template.txt\", \"infer.model.name\": \"flakey\"})"
   ]
  },
  {
   "cell_type": "code",
   "execution_count": 6,
   "metadata": {},
   "outputs": [
    {
     "data": {
      "text/markdown": [
       "## Case: ed6\n",
       "**PASSED**  \n",
       "Input tokens: 35, output tokens: 1\n",
       "\n",
       "**system**: You are a desktop calculator that computes the value of mathematical expressions.\n",
       "The input is base 10.\n",
       "Your output should be just a base 10 numerical result.\n",
       "\n",
       "**user**: 1+1\n",
       "\n",
       "**assistant**: 2.0\n",
       "## Case: e09\n",
       "Error: Context: Extracting numerical answer from LLM response.\n",
       "Error: could not convert string to float: 'hello world'\n",
       "\n",
       "Traceback: Traceback (most recent call last):\n",
       "  File \"c:\\git\\llm-tools\\gotaglio\\gotaglio\\director.py\", line 128, in process_one_case\n",
       "    await run_dag(dag, result)\n",
       "  File \"c:\\git\\llm-tools\\gotaglio\\gotaglio\\dag.py\", line 115, in run_dag\n",
       "    (name, result) = task.result()\n",
       "                     ^^^^^^^^^^^^^\n",
       "  File \"C:\\Users\\mhop\\AppData\\Local\\Programs\\Python\\Python312\\Lib\\asyncio\\futures.py\", line 202, in result\n",
       "    raise self._exception.with_traceback(self._exception_tb)\n",
       "  File \"C:\\Users\\mhop\\AppData\\Local\\Programs\\Python\\Python312\\Lib\\asyncio\\tasks.py\", line 314, in __step_run_and_handle_result\n",
       "    result = coro.send(None)\n",
       "             ^^^^^^^^^^^^^^^\n",
       "  File \"c:\\git\\llm-tools\\gotaglio\\gotaglio\\dag.py\", line 81, in run_task\n",
       "    raise e\n",
       "  File \"c:\\git\\llm-tools\\gotaglio\\gotaglio\\dag.py\", line 73, in run_task\n",
       "    result = await dag[name][\"function\"](context)\n",
       "             ^^^^^^^^^^^^^^^^^^^^^^^^^^^^^^^^^^^^\n",
       "  File \"c:\\git\\llm-tools\\gotaglio\\samples\\simple\\simple.py\", line 162, in extract\n",
       "    return float(context[\"stages\"][\"infer\"])\n",
       "           ^^^^^^^^^^^^^^^^^^^^^^^^^^^^^^^^^\n",
       "ValueError: could not convert string to float: 'hello world'\n",
       "\n",
       "Time: 2025-03-15 20:23:36.358741+00:00\n",
       "## Case: e86\n",
       "Error: Error: Flakey model failed\n",
       "\n",
       "Traceback: Traceback (most recent call last):\n",
       "  File \"c:\\git\\llm-tools\\gotaglio\\gotaglio\\director.py\", line 128, in process_one_case\n",
       "    await run_dag(dag, result)\n",
       "  File \"c:\\git\\llm-tools\\gotaglio\\gotaglio\\dag.py\", line 115, in run_dag\n",
       "    (name, result) = task.result()\n",
       "                     ^^^^^^^^^^^^^\n",
       "  File \"C:\\Users\\mhop\\AppData\\Local\\Programs\\Python\\Python312\\Lib\\asyncio\\futures.py\", line 202, in result\n",
       "    raise self._exception.with_traceback(self._exception_tb)\n",
       "  File \"C:\\Users\\mhop\\AppData\\Local\\Programs\\Python\\Python312\\Lib\\asyncio\\tasks.py\", line 314, in __step_run_and_handle_result\n",
       "    result = coro.send(None)\n",
       "             ^^^^^^^^^^^^^^^\n",
       "  File \"c:\\git\\llm-tools\\gotaglio\\gotaglio\\dag.py\", line 81, in run_task\n",
       "    raise e\n",
       "  File \"c:\\git\\llm-tools\\gotaglio\\gotaglio\\dag.py\", line 73, in run_task\n",
       "    result = await dag[name][\"function\"](context)\n",
       "             ^^^^^^^^^^^^^^^^^^^^^^^^^^^^^^^^^^^^\n",
       "  File \"c:\\git\\llm-tools\\gotaglio\\samples\\simple\\simple.py\", line 155, in infer\n",
       "    return await model.infer(context[\"stages\"][\"prepare\"], context)\n",
       "           ^^^^^^^^^^^^^^^^^^^^^^^^^^^^^^^^^^^^^^^^^^^^^^^^^^^^^^^^\n",
       "  File \"c:\\git\\llm-tools\\gotaglio\\samples\\simple\\simple.py\", line 419, in infer\n",
       "    raise Exception(\"Flakey model failed\")\n",
       "Exception: Flakey model failed\n",
       "\n",
       "Time: 2025-03-15 20:23:36.359741+00:00\n",
       "## Case: d73\n",
       "**PASSED**  \n",
       "Input tokens: 37, output tokens: 3\n",
       "\n",
       "**system**: You are a desktop calculator that computes the value of mathematical expressions.\n",
       "The input is base 16.\n",
       "Your output should be just a base 10 numerical result.\n",
       "\n",
       "**user**: a1 / 4\n",
       "\n",
       "**assistant**: 40.25"
      ],
      "text/plain": [
       "<IPython.core.display.Markdown object>"
      ]
     },
     "metadata": {},
     "output_type": "display_data"
    }
   ],
   "source": [
    "gt.format(runlog2)"
   ]
  },
  {
   "cell_type": "code",
   "execution_count": null,
   "metadata": {},
   "outputs": [],
   "source": [
    "gt.summarize(runlog2)"
   ]
  },
  {
   "cell_type": "code",
   "execution_count": null,
   "metadata": {},
   "outputs": [],
   "source": [
    "gt.compare(runlog1, runlog2)"
   ]
  },
  {
   "cell_type": "code",
   "execution_count": null,
   "metadata": {},
   "outputs": [],
   "source": [
    "gt.add_ids(cases)"
   ]
  },
  {
   "cell_type": "code",
   "execution_count": null,
   "metadata": {},
   "outputs": [],
   "source": [
    "from gotaglio.gotag import is_running_in_notebook\n",
    "\n",
    "is_running_in_notebook()"
   ]
  }
 ],
 "metadata": {
  "kernelspec": {
   "display_name": ".venv",
   "language": "python",
   "name": "python3"
  },
  "language_info": {
   "codemirror_mode": {
    "name": "ipython",
    "version": 3
   },
   "file_extension": ".py",
   "mimetype": "text/x-python",
   "name": "python",
   "nbconvert_exporter": "python",
   "pygments_lexer": "ipython3",
   "version": "3.12.9"
  }
 },
 "nbformat": 4,
 "nbformat_minor": 2
}
