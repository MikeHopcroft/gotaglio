{
 "cells": [
  {
   "cell_type": "markdown",
   "metadata": {},
   "source": [
    "# Simple Sample Notebook"
   ]
  },
  {
   "cell_type": "markdown",
   "metadata": {},
   "source": [
    "Define your pipeline. In this case we're using the SimplePipeline sample."
   ]
  },
  {
   "cell_type": "code",
   "execution_count": null,
   "metadata": {},
   "outputs": [],
   "source": [
    "from simple import SimplePipeline\n",
    "# from gotaglio.gotag import Gotaglio"
   ]
  },
  {
   "cell_type": "markdown",
   "metadata": {},
   "source": [
    "Define your test cases."
   ]
  },
  {
   "cell_type": "code",
   "execution_count": null,
   "metadata": {},
   "outputs": [],
   "source": [
    "cases = [\n",
    "  {\n",
    "    \"uuid\": \"ed6ceb29-b4b9-427c-99b8-635984198a59\",\n",
    "    \"keywords\": [\n",
    "      \"p0\",\n",
    "      \"addition\"\n",
    "    ],\n",
    "    \"user\": \"1+1\",\n",
    "    \"base\": 10,\n",
    "    \"answer\": 2\n",
    "  },\n",
    "  {\n",
    "    \"uuid\": \"e0936e92-9abb-4fdb-8907-f17e8d40b1fd\",\n",
    "    \"keywords\": [\n",
    "      \"p0\",\n",
    "      \"addition\",\n",
    "      \"multiplication\"\n",
    "    ],\n",
    "    \"user\": \"1 + 2 * 3\",\n",
    "    \"base\": 10,\n",
    "    \"answer\": 7\n",
    "  },\n",
    "  {\n",
    "    \"uuid\": \"e86add04-88e2-42e0-b37e-af137868eec7\",\n",
    "    \"keywords\": [\n",
    "      \"division, hexidecimal\"\n",
    "    ],\n",
    "    \"user\": \"a0 / 4\",\n",
    "    \"base\": 16,\n",
    "    \"answer\": 40\n",
    "  },\n",
    "  {\n",
    "    \"uuid\": \"d739e6a7-70d4-42d8-9f4b-7438529ebadd\",\n",
    "    \"keywords\": [\n",
    "      \"division, hexidecimal, fails\"\n",
    "    ],\n",
    "    \"user\": \"a1 / 4\",\n",
    "    \"base\": 16,\n",
    "    \"answer\": 40.25\n",
    "  }\n",
    "]"
   ]
  },
  {
   "cell_type": "markdown",
   "metadata": {},
   "source": [
    "The next cell reloads packages you may be editing. You must run this cell after each edit to `gotaglio.gotag` or `simple.SimplePipeline`."
   ]
  },
  {
   "cell_type": "code",
   "execution_count": null,
   "metadata": {},
   "outputs": [],
   "source": [
    "import nest_asyncio\n",
    "import importlib\n",
    "from gotaglio import gotag\n",
    "from gotaglio import shared\n",
    "import simple\n",
    "\n",
    "# Necessary for running asyncio in Jupyter\n",
    "nest_asyncio.apply()\n",
    "\n",
    "# Reload the gotag module\n",
    "importlib.reload(gotag)\n",
    "\n",
    "# Reload the SimplePipeline module\n",
    "importlib.reload(simple)\n",
    "# Reload the SimplePipeline module\n",
    "\n",
    "importlib.reload(shared)\n",
    "\n",
    "from gotaglio.gotag import Gotaglio\n",
    "\n",
    "gt = Gotaglio([simple.SimplePipeline], {\"base_folder\": \"/workspaces/gotaglio\"})"
   ]
  },
  {
   "cell_type": "markdown",
   "metadata": {},
   "source": [
    "Run a pipeline and store the result in `runlog1`."
   ]
  },
  {
   "cell_type": "code",
   "execution_count": null,
   "metadata": {},
   "outputs": [],
   "source": [
    "runlog1 = gt.run(\"simple\", \n",
    "                 cases, \n",
    "                 {\"prepare.template\": \"template.txt\", \n",
    "                  \"infer.model.name\": \"gpt4.1\"},  \n",
    "                save=True)"
   ]
  },
  {
   "cell_type": "markdown",
   "metadata": {},
   "source": [
    "Rerun an experiment with a different model and store the runlog in `runlog2`."
   ]
  },
  {
   "cell_type": "code",
   "execution_count": null,
   "metadata": {},
   "outputs": [],
   "source": [
    "runlog2 = gt.rerun(runlog1, {\"prepare.template\": \"template.txt\", \"infer.model.name\": \"gpt4o\"})"
   ]
  },
  {
   "cell_type": "code",
   "execution_count": null,
   "metadata": {},
   "outputs": [],
   "source": [
    "gt.format(runlog2)"
   ]
  },
  {
   "cell_type": "code",
   "execution_count": null,
   "metadata": {},
   "outputs": [],
   "source": [
    "gt.summarize(runlog2)"
   ]
  },
  {
   "cell_type": "code",
   "execution_count": null,
   "metadata": {},
   "outputs": [],
   "source": [
    "gt.summarize(\"latest\")"
   ]
  },
  {
   "cell_type": "code",
   "execution_count": null,
   "metadata": {},
   "outputs": [],
   "source": [
    "gt.compare(runlog1, runlog2)"
   ]
  },
  {
   "cell_type": "code",
   "execution_count": null,
   "metadata": {},
   "outputs": [],
   "source": [
    "gt.add_ids(cases)"
   ]
  },
  {
   "cell_type": "code",
   "execution_count": null,
   "metadata": {},
   "outputs": [],
   "source": [
    "from gotaglio.gotag import is_running_in_notebook\n",
    "\n",
    "is_running_in_notebook()"
   ]
  }
 ],
 "metadata": {
  "kernelspec": {
   "display_name": ".venv",
   "language": "python",
   "name": "python3"
  },
  "language_info": {
   "codemirror_mode": {
    "name": "ipython",
    "version": 3
   },
   "file_extension": ".py",
   "mimetype": "text/x-python",
   "name": "python",
   "nbconvert_exporter": "python",
   "pygments_lexer": "ipython3",
   "version": "3.12.11"
  }
 },
 "nbformat": 4,
 "nbformat_minor": 2
}
