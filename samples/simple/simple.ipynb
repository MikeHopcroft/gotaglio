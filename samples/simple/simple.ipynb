{
 "cells": [
  {
   "cell_type": "markdown",
   "metadata": {},
   "source": [
    "# Simple Sample Notebook"
   ]
  },
  {
   "cell_type": "markdown",
   "metadata": {},
   "source": [
    "Define your pipeline. In this case we're using the SimplePipeline sample."
   ]
  },
  {
   "cell_type": "code",
   "execution_count": 1,
   "metadata": {},
   "outputs": [],
   "source": [
    "from simple import SimplePipeline\n",
    "# from gotaglio.gotag import Gotaglio"
   ]
  },
  {
   "cell_type": "markdown",
   "metadata": {},
   "source": [
    "Define your test cases."
   ]
  },
  {
   "cell_type": "code",
   "execution_count": 2,
   "metadata": {},
   "outputs": [],
   "source": [
    "cases = [\n",
    "  {\n",
    "    \"uuid\": \"ed6ceb29-b4b9-427c-99b8-635984198a59\",\n",
    "    \"keywords\": [\n",
    "      \"p0\",\n",
    "      \"addition\"\n",
    "    ],\n",
    "    \"user\": \"1+1\",\n",
    "    \"base\": 10,\n",
    "    \"answer\": 2\n",
    "  },\n",
    "  {\n",
    "    \"uuid\": \"e0936e92-9abb-4fdb-8907-f17e8d40b1fd\",\n",
    "    \"keywords\": [\n",
    "      \"p0\",\n",
    "      \"addition\",\n",
    "      \"multiplication\"\n",
    "    ],\n",
    "    \"user\": \"1 + 2 * 3\",\n",
    "    \"base\": 10,\n",
    "    \"answer\": 7\n",
    "  },\n",
    "  {\n",
    "    \"uuid\": \"e86add04-88e2-42e0-b37e-af137868eec7\",\n",
    "    \"keywords\": [\n",
    "      \"division, hexidecimal\"\n",
    "    ],\n",
    "    \"user\": \"a0 / 4\",\n",
    "    \"base\": 16,\n",
    "    \"answer\": 40\n",
    "  },\n",
    "  {\n",
    "    \"uuid\": \"d739e6a7-70d4-42d8-9f4b-7438529ebadd\",\n",
    "    \"keywords\": [\n",
    "      \"division, hexidecimal, fails\"\n",
    "    ],\n",
    "    \"user\": \"a1 / 4\",\n",
    "    \"base\": 16,\n",
    "    \"answer\": 40.25\n",
    "  }\n",
    "]"
   ]
  },
  {
   "cell_type": "markdown",
   "metadata": {},
   "source": [
    "The next cell reloads packages you may be editing. You must run this cell after each edit to `gotaglio.gotag` or `simple.SimplePipeline`."
   ]
  },
  {
   "cell_type": "code",
   "execution_count": 3,
   "metadata": {},
   "outputs": [],
   "source": [
    "import nest_asyncio\n",
    "import importlib\n",
    "from gotaglio import gotag\n",
    "from gotaglio import shared\n",
    "import simple\n",
    "\n",
    "nest_asyncio.apply()\n",
    "\n",
    "# Reload the gotag module\n",
    "importlib.reload(gotag)\n",
    "\n",
    "# Reload the SimplePipeline module\n",
    "importlib.reload(simple)\n",
    "# Reload the SimplePipeline module\n",
    "\n",
    "importlib.reload(shared)\n",
    "\n",
    "from gotaglio.gotag import Gotaglio\n",
    "\n",
    "gt = Gotaglio([simple.SimplePipeline])"
   ]
  },
  {
   "cell_type": "markdown",
   "metadata": {},
   "source": [
    "Run a pipeline and store the result in `runlog1`."
   ]
  },
  {
   "cell_type": "code",
   "execution_count": 4,
   "metadata": {},
   "outputs": [],
   "source": [
    "runlog1 = gt.run(\"simple\", cases, {\"prepare.template\": \"template.txt\", \"infer.model.name\": \"perfect\"})"
   ]
  },
  {
   "cell_type": "markdown",
   "metadata": {},
   "source": [
    "Rerun an experiment with a different model and store the runlog in `runlog2`."
   ]
  },
  {
   "cell_type": "code",
   "execution_count": 5,
   "metadata": {},
   "outputs": [],
   "source": [
    "runlog2 = gt.rerun(runlog1, {\"prepare.template\": \"template.txt\", \"infer.model.name\": \"flakey\"})"
   ]
  },
  {
   "cell_type": "code",
   "execution_count": 6,
   "metadata": {},
   "outputs": [
    {
     "data": {
      "text/html": [
       "<pre style=\"white-space:pre;overflow-x:auto;line-height:normal;font-family:Menlo,'DejaVu Sans Mono',consolas,'Courier New',monospace\"></pre>\n"
      ],
      "text/plain": []
     },
     "metadata": {},
     "output_type": "display_data"
    },
    {
     "data": {
      "text/markdown": [
       "# Title\n",
       "## Case: ed6\n",
       "**PASSED**  \n",
       "Input tokens: 35, output tokens: 1\n",
       "\n",
       "**system**: You are a desktop calculator that computes the value of mathematical expressions.\n",
       "The input is base 10.\n",
       "Your output should be just a base 10 numerical result.\n",
       "\n",
       "**user**: 1+1\n",
       "\n",
       "**assistant**: 2.0\n",
       "## Case: e09\n",
       "\n",
       "~~~bash\n",
       "Error: Context: Extracting numerical answer from LLM response.\n",
       "Error: could not convert string to float: 'hello world'\n",
       "\n",
       "Traceback: Traceback (most recent call last):\n",
       "  File \"c:\\git\\llm-tools\\gotaglio\\gotaglio\\director.py\", line 128, in process_one_case\n",
       "    await run_dag(dag, result)\n",
       "  File \"c:\\git\\llm-tools\\gotaglio\\gotaglio\\dag.py\", line 115, in run_dag\n",
       "    (name, result) = task.result()\n",
       "                     ^^^^^^^^^^^^^\n",
       "  File \"C:\\Users\\mhop\\AppData\\Local\\Programs\\Python\\Python312\\Lib\\asyncio\\futures.py\", line 202, in result\n",
       "    raise self._exception.with_traceback(self._exception_tb)\n",
       "  File \"C:\\Users\\mhop\\AppData\\Local\\Programs\\Python\\Python312\\Lib\\asyncio\\tasks.py\", line 314, in \n",
       "__step_run_and_handle_result\n",
       "    result = coro.send(None)\n",
       "             ^^^^^^^^^^^^^^^\n",
       "  File \"c:\\git\\llm-tools\\gotaglio\\gotaglio\\dag.py\", line 81, in run_task\n",
       "    raise e\n",
       "  File \"c:\\git\\llm-tools\\gotaglio\\gotaglio\\dag.py\", line 73, in run_task\n",
       "    result = await dag[\"function\"](context)\n",
       "             ^^^^^^^^^^^^^^^^^^^^^^^^^^^^^^^^^^^^\n",
       "  File \"c:\\git\\llm-tools\\gotaglio\\samples\\simple\\simple.py\", line 162, in extract\n",
       "    return float(context[\"stages\"][\"infer\"])\n",
       "           ^^^^^^^^^^^^^^^^^^^^^^^^^^^^^^^^^\n",
       "ValueError: could not convert string to float: 'hello world'\n",
       "\n",
       "Time: 2025-03-16 17:28:49.274255+00:00\n",
       "~~~\n",
       "\n",
       "## Case: e86\n",
       "\n",
       "~~~bash\n",
       "Error: Error: Flakey model failed\n",
       "\n",
       "Traceback: Traceback (most recent call last):\n",
       "  File \"c:\\git\\llm-tools\\gotaglio\\gotaglio\\director.py\", line 128, in process_one_case\n",
       "    await run_dag(dag, result)\n",
       "  File \"c:\\git\\llm-tools\\gotaglio\\gotaglio\\dag.py\", line 115, in run_dag\n",
       "    (name, result) = task.result()\n",
       "                     ^^^^^^^^^^^^^\n",
       "  File \"C:\\Users\\mhop\\AppData\\Local\\Programs\\Python\\Python312\\Lib\\asyncio\\futures.py\", line 202, in result\n",
       "    raise self._exception.with_traceback(self._exception_tb)\n",
       "  File \"C:\\Users\\mhop\\AppData\\Local\\Programs\\Python\\Python312\\Lib\\asyncio\\tasks.py\", line 314, in \n",
       "__step_run_and_handle_result\n",
       "    result = coro.send(None)\n",
       "             ^^^^^^^^^^^^^^^\n",
       "  File \"c:\\git\\llm-tools\\gotaglio\\gotaglio\\dag.py\", line 81, in run_task\n",
       "    raise e\n",
       "  File \"c:\\git\\llm-tools\\gotaglio\\gotaglio\\dag.py\", line 73, in run_task\n",
       "    result = await dag[\"function\"](context)\n",
       "             ^^^^^^^^^^^^^^^^^^^^^^^^^^^^^^^^^^^^\n",
       "  File \"c:\\git\\llm-tools\\gotaglio\\samples\\simple\\simple.py\", line 155, in infer\n",
       "    return await model.infer(context[\"stages\"][\"prepare\"], context)\n",
       "           ^^^^^^^^^^^^^^^^^^^^^^^^^^^^^^^^^^^^^^^^^^^^^^^^^^^^^^^^\n",
       "  File \"c:\\git\\llm-tools\\gotaglio\\samples\\simple\\simple.py\", line 468, in infer\n",
       "    raise Exception(\"Flakey model failed\")\n",
       "Exception: Flakey model failed\n",
       "\n",
       "Time: 2025-03-16 17:28:49.275261+00:00\n",
       "~~~\n",
       "\n",
       "## Case: d73\n",
       "**PASSED**  \n",
       "Input tokens: 37, output tokens: 3\n",
       "\n",
       "**system**: You are a desktop calculator that computes the value of mathematical expressions.\n",
       "The input is base 16.\n",
       "Your output should be just a base 10 numerical result.\n",
       "\n",
       "**user**: a1 / 4\n",
       "\n",
       "**assistant**: 40.25"
      ],
      "text/plain": [
       "<IPython.core.display.Markdown object>"
      ]
     },
     "metadata": {},
     "output_type": "display_data"
    }
   ],
   "source": [
    "gt.format(runlog2)"
   ]
  },
  {
   "cell_type": "code",
   "execution_count": 7,
   "metadata": {},
   "outputs": [
    {
     "data": {
      "text/html": [
       "<pre style=\"white-space:pre;overflow-x:auto;line-height:normal;font-family:Menlo,'DejaVu Sans Mono',consolas,'Courier New',monospace\"><span style=\"font-style: italic\">    Summary for a67368f4-769e-45bf-bee6-35ea62a34507     </span>\n",
       "┏━━━━━┳━━━━━━━━━━┳━━━━━━━┳━━━━━━━━━━━━━━━━━━━━━━━━━━━━━━┓\n",
       "┃<span style=\"font-weight: bold\">  id </span>┃<span style=\"font-weight: bold\"> run      </span>┃<span style=\"font-weight: bold\"> score </span>┃<span style=\"font-weight: bold\"> keywords                     </span>┃\n",
       "┡━━━━━╇━━━━━━━━━━╇━━━━━━━╇━━━━━━━━━━━━━━━━━━━━━━━━━━━━━━┩\n",
       "│<span style=\"color: #008080; text-decoration-color: #008080\"> ed6 </span>│<span style=\"color: #800080; text-decoration-color: #800080\"> </span><span style=\"color: #008000; text-decoration-color: #008000; font-weight: bold\">COMPLETE</span><span style=\"color: #800080; text-decoration-color: #800080\"> </span>│<span style=\"color: #008000; text-decoration-color: #008000\"> </span><span style=\"color: #008000; text-decoration-color: #008000; font-weight: bold\"> 0.00</span><span style=\"color: #008000; text-decoration-color: #008000\"> </span>│<span style=\"color: #008000; text-decoration-color: #008000\"> addition, p0                 </span>│\n",
       "│<span style=\"color: #008080; text-decoration-color: #008080\"> e09 </span>│<span style=\"color: #800080; text-decoration-color: #800080\"> </span><span style=\"color: #800000; text-decoration-color: #800000; font-weight: bold\">ERROR   </span><span style=\"color: #800080; text-decoration-color: #800080\"> </span>│<span style=\"color: #008000; text-decoration-color: #008000\"> </span><span style=\"color: #800000; text-decoration-color: #800000; font-weight: bold\">     </span><span style=\"color: #008000; text-decoration-color: #008000\"> </span>│<span style=\"color: #008000; text-decoration-color: #008000\"> addition, multiplication, p0 </span>│\n",
       "│<span style=\"color: #008080; text-decoration-color: #008080\"> e86 </span>│<span style=\"color: #800080; text-decoration-color: #800080\"> </span><span style=\"color: #800000; text-decoration-color: #800000; font-weight: bold\">ERROR   </span><span style=\"color: #800080; text-decoration-color: #800080\"> </span>│<span style=\"color: #008000; text-decoration-color: #008000\"> </span><span style=\"color: #800000; text-decoration-color: #800000; font-weight: bold\">     </span><span style=\"color: #008000; text-decoration-color: #008000\"> </span>│<span style=\"color: #008000; text-decoration-color: #008000\"> division, hexidecimal        </span>│\n",
       "│<span style=\"color: #008080; text-decoration-color: #008080\"> d73 </span>│<span style=\"color: #800080; text-decoration-color: #800080\"> </span><span style=\"color: #008000; text-decoration-color: #008000; font-weight: bold\">COMPLETE</span><span style=\"color: #800080; text-decoration-color: #800080\"> </span>│<span style=\"color: #008000; text-decoration-color: #008000\"> </span><span style=\"color: #008000; text-decoration-color: #008000; font-weight: bold\"> 0.00</span><span style=\"color: #008000; text-decoration-color: #008000\"> </span>│<span style=\"color: #008000; text-decoration-color: #008000\"> division, hexidecimal, fails </span>│\n",
       "└─────┴──────────┴───────┴──────────────────────────────┘\n",
       "</pre>\n"
      ],
      "text/plain": [
       "\u001b[3m    Summary for a67368f4-769e-45bf-bee6-35ea62a34507     \u001b[0m\n",
       "┏━━━━━┳━━━━━━━━━━┳━━━━━━━┳━━━━━━━━━━━━━━━━━━━━━━━━━━━━━━┓\n",
       "┃\u001b[1m \u001b[0m\u001b[1m id\u001b[0m\u001b[1m \u001b[0m┃\u001b[1m \u001b[0m\u001b[1mrun     \u001b[0m\u001b[1m \u001b[0m┃\u001b[1m \u001b[0m\u001b[1mscore\u001b[0m\u001b[1m \u001b[0m┃\u001b[1m \u001b[0m\u001b[1mkeywords                    \u001b[0m\u001b[1m \u001b[0m┃\n",
       "┡━━━━━╇━━━━━━━━━━╇━━━━━━━╇━━━━━━━━━━━━━━━━━━━━━━━━━━━━━━┩\n",
       "│\u001b[36m \u001b[0m\u001b[36med6\u001b[0m\u001b[36m \u001b[0m│\u001b[35m \u001b[0m\u001b[1;32mCOMPLETE\u001b[0m\u001b[35m \u001b[0m│\u001b[32m \u001b[0m\u001b[1;32m 0.00\u001b[0m\u001b[32m \u001b[0m│\u001b[32m \u001b[0m\u001b[32maddition, p0                \u001b[0m\u001b[32m \u001b[0m│\n",
       "│\u001b[36m \u001b[0m\u001b[36me09\u001b[0m\u001b[36m \u001b[0m│\u001b[35m \u001b[0m\u001b[1;31mERROR   \u001b[0m\u001b[35m \u001b[0m│\u001b[32m \u001b[0m\u001b[1;31m     \u001b[0m\u001b[32m \u001b[0m│\u001b[32m \u001b[0m\u001b[32maddition, multiplication, p0\u001b[0m\u001b[32m \u001b[0m│\n",
       "│\u001b[36m \u001b[0m\u001b[36me86\u001b[0m\u001b[36m \u001b[0m│\u001b[35m \u001b[0m\u001b[1;31mERROR   \u001b[0m\u001b[35m \u001b[0m│\u001b[32m \u001b[0m\u001b[1;31m     \u001b[0m\u001b[32m \u001b[0m│\u001b[32m \u001b[0m\u001b[32mdivision, hexidecimal       \u001b[0m\u001b[32m \u001b[0m│\n",
       "│\u001b[36m \u001b[0m\u001b[36md73\u001b[0m\u001b[36m \u001b[0m│\u001b[35m \u001b[0m\u001b[1;32mCOMPLETE\u001b[0m\u001b[35m \u001b[0m│\u001b[32m \u001b[0m\u001b[1;32m 0.00\u001b[0m\u001b[32m \u001b[0m│\u001b[32m \u001b[0m\u001b[32mdivision, hexidecimal, fails\u001b[0m\u001b[32m \u001b[0m│\n",
       "└─────┴──────────┴───────┴──────────────────────────────┘\n"
      ]
     },
     "metadata": {},
     "output_type": "display_data"
    },
    {
     "data": {
      "text/html": [
       "<pre style=\"white-space:pre;overflow-x:auto;line-height:normal;font-family:Menlo,'DejaVu Sans Mono',consolas,'Courier New',monospace\">\n",
       "</pre>\n"
      ],
      "text/plain": [
       "\n"
      ]
     },
     "metadata": {},
     "output_type": "display_data"
    },
    {
     "data": {
      "text/html": [
       "<pre style=\"white-space:pre;overflow-x:auto;line-height:normal;font-family:Menlo,'DejaVu Sans Mono',consolas,'Courier New',monospace\">Total: <span style=\"color: #008080; text-decoration-color: #008080; font-weight: bold\">4</span>\n",
       "</pre>\n"
      ],
      "text/plain": [
       "Total: \u001b[1;36m4\u001b[0m\n"
      ]
     },
     "metadata": {},
     "output_type": "display_data"
    },
    {
     "data": {
      "text/html": [
       "<pre style=\"white-space:pre;overflow-x:auto;line-height:normal;font-family:Menlo,'DejaVu Sans Mono',consolas,'Courier New',monospace\">Complete: <span style=\"color: #008080; text-decoration-color: #008080; font-weight: bold\">2</span>/<span style=\"color: #008080; text-decoration-color: #008080; font-weight: bold\">4</span> <span style=\"font-weight: bold\">(</span><span style=\"color: #008080; text-decoration-color: #008080; font-weight: bold\">50.00</span>%<span style=\"font-weight: bold\">)</span>\n",
       "</pre>\n"
      ],
      "text/plain": [
       "Complete: \u001b[1;36m2\u001b[0m/\u001b[1;36m4\u001b[0m \u001b[1m(\u001b[0m\u001b[1;36m50.00\u001b[0m%\u001b[1m)\u001b[0m\n"
      ]
     },
     "metadata": {},
     "output_type": "display_data"
    },
    {
     "data": {
      "text/html": [
       "<pre style=\"white-space:pre;overflow-x:auto;line-height:normal;font-family:Menlo,'DejaVu Sans Mono',consolas,'Courier New',monospace\">Error: <span style=\"color: #008080; text-decoration-color: #008080; font-weight: bold\">2</span>/<span style=\"color: #008080; text-decoration-color: #008080; font-weight: bold\">4</span> <span style=\"font-weight: bold\">(</span><span style=\"color: #008080; text-decoration-color: #008080; font-weight: bold\">50.00</span>%<span style=\"font-weight: bold\">)</span>\n",
       "</pre>\n"
      ],
      "text/plain": [
       "Error: \u001b[1;36m2\u001b[0m/\u001b[1;36m4\u001b[0m \u001b[1m(\u001b[0m\u001b[1;36m50.00\u001b[0m%\u001b[1m)\u001b[0m\n"
      ]
     },
     "metadata": {},
     "output_type": "display_data"
    },
    {
     "data": {
      "text/html": [
       "<pre style=\"white-space:pre;overflow-x:auto;line-height:normal;font-family:Menlo,'DejaVu Sans Mono',consolas,'Courier New',monospace\">Passed: <span style=\"color: #008080; text-decoration-color: #008080; font-weight: bold\">2</span>/<span style=\"color: #008080; text-decoration-color: #008080; font-weight: bold\">4</span> <span style=\"font-weight: bold\">(</span><span style=\"color: #008080; text-decoration-color: #008080; font-weight: bold\">50.00</span>%<span style=\"font-weight: bold\">)</span>\n",
       "</pre>\n"
      ],
      "text/plain": [
       "Passed: \u001b[1;36m2\u001b[0m/\u001b[1;36m4\u001b[0m \u001b[1m(\u001b[0m\u001b[1;36m50.00\u001b[0m%\u001b[1m)\u001b[0m\n"
      ]
     },
     "metadata": {},
     "output_type": "display_data"
    },
    {
     "data": {
      "text/html": [
       "<pre style=\"white-space:pre;overflow-x:auto;line-height:normal;font-family:Menlo,'DejaVu Sans Mono',consolas,'Courier New',monospace\">Failed: <span style=\"color: #008080; text-decoration-color: #008080; font-weight: bold\">0</span>/<span style=\"color: #008080; text-decoration-color: #008080; font-weight: bold\">4</span> <span style=\"font-weight: bold\">(</span><span style=\"color: #008080; text-decoration-color: #008080; font-weight: bold\">0.00</span>%<span style=\"font-weight: bold\">)</span>\n",
       "</pre>\n"
      ],
      "text/plain": [
       "Failed: \u001b[1;36m0\u001b[0m/\u001b[1;36m4\u001b[0m \u001b[1m(\u001b[0m\u001b[1;36m0.00\u001b[0m%\u001b[1m)\u001b[0m\n"
      ]
     },
     "metadata": {},
     "output_type": "display_data"
    },
    {
     "data": {
      "text/html": [
       "<pre style=\"white-space:pre;overflow-x:auto;line-height:normal;font-family:Menlo,'DejaVu Sans Mono',consolas,'Courier New',monospace\">\n",
       "</pre>\n"
      ],
      "text/plain": [
       "\n"
      ]
     },
     "metadata": {},
     "output_type": "display_data"
    }
   ],
   "source": [
    "gt.summarize(runlog2)"
   ]
  },
  {
   "cell_type": "code",
   "execution_count": 8,
   "metadata": {},
   "outputs": [
    {
     "data": {
      "text/html": [
       "<pre style=\"white-space:pre;overflow-x:auto;line-height:normal;font-family:Menlo,'DejaVu Sans Mono',consolas,'Courier New',monospace\">TODO: <span style=\"color: #800080; text-decoration-color: #800080; font-weight: bold\">compare</span><span style=\"font-weight: bold\">()</span>\n",
       "</pre>\n"
      ],
      "text/plain": [
       "TODO: \u001b[1;35mcompare\u001b[0m\u001b[1m(\u001b[0m\u001b[1m)\u001b[0m\n"
      ]
     },
     "metadata": {},
     "output_type": "display_data"
    },
    {
     "data": {
      "text/html": [
       "<pre style=\"white-space:pre;overflow-x:auto;line-height:normal;font-family:Menlo,'DejaVu Sans Mono',consolas,'Courier New',monospace\">A: <span style=\"color: #ffff00; text-decoration-color: #ffff00\">3b5da05f-fe09-4395-b509-50eac32dc92e</span>\n",
       "</pre>\n"
      ],
      "text/plain": [
       "A: \u001b[93m3b5da05f-fe09-4395-b509-50eac32dc92e\u001b[0m\n"
      ]
     },
     "metadata": {},
     "output_type": "display_data"
    },
    {
     "data": {
      "text/html": [
       "<pre style=\"white-space:pre;overflow-x:auto;line-height:normal;font-family:Menlo,'DejaVu Sans Mono',consolas,'Courier New',monospace\">B: <span style=\"color: #ffff00; text-decoration-color: #ffff00\">a67368f4-769e-45bf-bee6-35ea62a34507</span>\n",
       "</pre>\n"
      ],
      "text/plain": [
       "B: \u001b[93ma67368f4-769e-45bf-bee6-35ea62a34507\u001b[0m\n"
      ]
     },
     "metadata": {},
     "output_type": "display_data"
    },
    {
     "data": {
      "text/html": [
       "<pre style=\"white-space:pre;overflow-x:auto;line-height:normal;font-family:Menlo,'DejaVu Sans Mono',consolas,'Courier New',monospace\">\n",
       "</pre>\n"
      ],
      "text/plain": [
       "\n"
      ]
     },
     "metadata": {},
     "output_type": "display_data"
    },
    {
     "data": {
      "text/html": [
       "<pre style=\"white-space:pre;overflow-x:auto;line-height:normal;font-family:Menlo,'DejaVu Sans Mono',consolas,'Courier New',monospace\"><span style=\"color: #008080; text-decoration-color: #008080; font-weight: bold\">0</span> cases only in A\n",
       "</pre>\n"
      ],
      "text/plain": [
       "\u001b[1;36m0\u001b[0m cases only in A\n"
      ]
     },
     "metadata": {},
     "output_type": "display_data"
    },
    {
     "data": {
      "text/html": [
       "<pre style=\"white-space:pre;overflow-x:auto;line-height:normal;font-family:Menlo,'DejaVu Sans Mono',consolas,'Courier New',monospace\"><span style=\"color: #008080; text-decoration-color: #008080; font-weight: bold\">0</span> cases only in B\n",
       "</pre>\n"
      ],
      "text/plain": [
       "\u001b[1;36m0\u001b[0m cases only in B\n"
      ]
     },
     "metadata": {},
     "output_type": "display_data"
    },
    {
     "data": {
      "text/html": [
       "<pre style=\"white-space:pre;overflow-x:auto;line-height:normal;font-family:Menlo,'DejaVu Sans Mono',consolas,'Courier New',monospace\"><span style=\"color: #008080; text-decoration-color: #008080; font-weight: bold\">4</span> cases in both A and B\n",
       "</pre>\n"
      ],
      "text/plain": [
       "\u001b[1;36m4\u001b[0m cases in both A and B\n"
      ]
     },
     "metadata": {},
     "output_type": "display_data"
    },
    {
     "data": {
      "text/html": [
       "<pre style=\"white-space:pre;overflow-x:auto;line-height:normal;font-family:Menlo,'DejaVu Sans Mono',consolas,'Courier New',monospace\">\n",
       "</pre>\n"
      ],
      "text/plain": [
       "\n"
      ]
     },
     "metadata": {},
     "output_type": "display_data"
    },
    {
     "data": {
      "text/html": [
       "<pre style=\"white-space:pre;overflow-x:auto;line-height:normal;font-family:Menlo,'DejaVu Sans Mono',consolas,'Courier New',monospace\"><span style=\"font-style: italic\">                       Comparison of A, B                        </span>\n",
       "┏━━━━━━━┳━━━━━━━━━━━━┳━━━━━━━━━━━┳━━━━━━━━━━━━━━━━━━━━━━━━━━━━━━┓\n",
       "┃<span style=\"font-weight: bold\">    id </span>┃<span style=\"font-weight: bold\">          A </span>┃<span style=\"font-weight: bold\">         B </span>┃<span style=\"font-weight: bold\"> keywords                     </span>┃\n",
       "┡━━━━━━━╇━━━━━━━━━━━━╇━━━━━━━━━━━╇━━━━━━━━━━━━━━━━━━━━━━━━━━━━━━┩\n",
       "│<span style=\"color: #008080; text-decoration-color: #008080\">   d73 </span>│<span style=\"color: #800080; text-decoration-color: #800080\"> </span><span style=\"color: #008000; text-decoration-color: #008000; font-weight: bold\">    passed</span><span style=\"color: #800080; text-decoration-color: #800080\"> </span>│<span style=\"color: #008000; text-decoration-color: #008000\"> </span><span style=\"color: #008000; text-decoration-color: #008000; font-weight: bold\">   passed</span><span style=\"color: #008000; text-decoration-color: #008000\"> </span>│<span style=\"color: #008000; text-decoration-color: #008000\"> division, hexidecimal, fails </span>│\n",
       "│<span style=\"color: #008080; text-decoration-color: #008080\">   ed6 </span>│<span style=\"color: #800080; text-decoration-color: #800080\"> </span><span style=\"color: #008000; text-decoration-color: #008000; font-weight: bold\">    passed</span><span style=\"color: #800080; text-decoration-color: #800080\"> </span>│<span style=\"color: #008000; text-decoration-color: #008000\"> </span><span style=\"color: #008000; text-decoration-color: #008000; font-weight: bold\">   passed</span><span style=\"color: #008000; text-decoration-color: #008000\"> </span>│<span style=\"color: #008000; text-decoration-color: #008000\"> addition, p0                 </span>│\n",
       "│<span style=\"color: #008080; text-decoration-color: #008080\">   e09 </span>│<span style=\"color: #800080; text-decoration-color: #800080\"> </span><span style=\"color: #008000; text-decoration-color: #008000; font-weight: bold\">    passed</span><span style=\"color: #800080; text-decoration-color: #800080\"> </span>│<span style=\"color: #008000; text-decoration-color: #008000\"> </span><span style=\"color: #800000; text-decoration-color: #800000; font-weight: bold\">    error</span><span style=\"color: #008000; text-decoration-color: #008000\"> </span>│<span style=\"color: #008000; text-decoration-color: #008000\"> addition, multiplication, p0 </span>│\n",
       "│<span style=\"color: #008080; text-decoration-color: #008080\">   e86 </span>│<span style=\"color: #800080; text-decoration-color: #800080\"> </span><span style=\"color: #008000; text-decoration-color: #008000; font-weight: bold\">    passed</span><span style=\"color: #800080; text-decoration-color: #800080\"> </span>│<span style=\"color: #008000; text-decoration-color: #008000\"> </span><span style=\"color: #800000; text-decoration-color: #800000; font-weight: bold\">    error</span><span style=\"color: #008000; text-decoration-color: #008000\"> </span>│<span style=\"color: #008000; text-decoration-color: #008000\"> division, hexidecimal        </span>│\n",
       "├───────┼────────────┼───────────┼──────────────────────────────┤\n",
       "│<span style=\"font-weight: bold\"> Total </span>│<span style=\"font-weight: bold\"> 4/4 (100%) </span>│<span style=\"font-weight: bold\"> 2/4 (50%) </span>│<span style=\"font-weight: bold\">                              </span>│\n",
       "└───────┴────────────┴───────────┴──────────────────────────────┘\n",
       "</pre>\n"
      ],
      "text/plain": [
       "\u001b[3m                       Comparison of A, B                        \u001b[0m\n",
       "┏━━━━━━━┳━━━━━━━━━━━━┳━━━━━━━━━━━┳━━━━━━━━━━━━━━━━━━━━━━━━━━━━━━┓\n",
       "┃\u001b[1m \u001b[0m\u001b[1m   id\u001b[0m\u001b[1m \u001b[0m┃\u001b[1m \u001b[0m\u001b[1m         A\u001b[0m\u001b[1m \u001b[0m┃\u001b[1m \u001b[0m\u001b[1m        B\u001b[0m\u001b[1m \u001b[0m┃\u001b[1m \u001b[0m\u001b[1mkeywords                    \u001b[0m\u001b[1m \u001b[0m┃\n",
       "┡━━━━━━━╇━━━━━━━━━━━━╇━━━━━━━━━━━╇━━━━━━━━━━━━━━━━━━━━━━━━━━━━━━┩\n",
       "│\u001b[36m \u001b[0m\u001b[36m  d73\u001b[0m\u001b[36m \u001b[0m│\u001b[35m \u001b[0m\u001b[1;32m    passed\u001b[0m\u001b[35m \u001b[0m│\u001b[32m \u001b[0m\u001b[1;32m   passed\u001b[0m\u001b[32m \u001b[0m│\u001b[32m \u001b[0m\u001b[32mdivision, hexidecimal, fails\u001b[0m\u001b[32m \u001b[0m│\n",
       "│\u001b[36m \u001b[0m\u001b[36m  ed6\u001b[0m\u001b[36m \u001b[0m│\u001b[35m \u001b[0m\u001b[1;32m    passed\u001b[0m\u001b[35m \u001b[0m│\u001b[32m \u001b[0m\u001b[1;32m   passed\u001b[0m\u001b[32m \u001b[0m│\u001b[32m \u001b[0m\u001b[32maddition, p0                \u001b[0m\u001b[32m \u001b[0m│\n",
       "│\u001b[36m \u001b[0m\u001b[36m  e09\u001b[0m\u001b[36m \u001b[0m│\u001b[35m \u001b[0m\u001b[1;32m    passed\u001b[0m\u001b[35m \u001b[0m│\u001b[32m \u001b[0m\u001b[1;31m    error\u001b[0m\u001b[32m \u001b[0m│\u001b[32m \u001b[0m\u001b[32maddition, multiplication, p0\u001b[0m\u001b[32m \u001b[0m│\n",
       "│\u001b[36m \u001b[0m\u001b[36m  e86\u001b[0m\u001b[36m \u001b[0m│\u001b[35m \u001b[0m\u001b[1;32m    passed\u001b[0m\u001b[35m \u001b[0m│\u001b[32m \u001b[0m\u001b[1;31m    error\u001b[0m\u001b[32m \u001b[0m│\u001b[32m \u001b[0m\u001b[32mdivision, hexidecimal       \u001b[0m\u001b[32m \u001b[0m│\n",
       "├───────┼────────────┼───────────┼──────────────────────────────┤\n",
       "│\u001b[1m \u001b[0m\u001b[1mTotal\u001b[0m\u001b[1m \u001b[0m│\u001b[1m \u001b[0m\u001b[1m4/4 (100%)\u001b[0m\u001b[1m \u001b[0m│\u001b[1m \u001b[0m\u001b[1m2/4 (50%)\u001b[0m\u001b[1m \u001b[0m│\u001b[1m \u001b[0m\u001b[1m                            \u001b[0m\u001b[1m \u001b[0m│\n",
       "└───────┴────────────┴───────────┴──────────────────────────────┘\n"
      ]
     },
     "metadata": {},
     "output_type": "display_data"
    },
    {
     "data": {
      "text/html": [
       "<pre style=\"white-space:pre;overflow-x:auto;line-height:normal;font-family:Menlo,'DejaVu Sans Mono',consolas,'Courier New',monospace\">\n",
       "</pre>\n"
      ],
      "text/plain": [
       "\n"
      ]
     },
     "metadata": {},
     "output_type": "display_data"
    }
   ],
   "source": [
    "gt.compare(runlog1, runlog2)"
   ]
  },
  {
   "cell_type": "code",
   "execution_count": 9,
   "metadata": {},
   "outputs": [
    {
     "name": "stdout",
     "output_type": "stream",
     "text": [
      "Total cases: 4\n",
      "UUIDs added: 0\n"
     ]
    }
   ],
   "source": [
    "gt.add_ids(cases)"
   ]
  },
  {
   "cell_type": "code",
   "execution_count": 10,
   "metadata": {},
   "outputs": [
    {
     "data": {
      "text/plain": [
       "True"
      ]
     },
     "execution_count": 10,
     "metadata": {},
     "output_type": "execute_result"
    }
   ],
   "source": [
    "from gotaglio.gotag import is_running_in_notebook\n",
    "\n",
    "is_running_in_notebook()"
   ]
  }
 ],
 "metadata": {
  "kernelspec": {
   "display_name": ".venv",
   "language": "python",
   "name": "python3"
  },
  "language_info": {
   "codemirror_mode": {
    "name": "ipython",
    "version": 3
   },
   "file_extension": ".py",
   "mimetype": "text/x-python",
   "name": "python",
   "nbconvert_exporter": "python",
   "pygments_lexer": "ipython3",
   "version": "3.12.9"
  }
 },
 "nbformat": 4,
 "nbformat_minor": 2
}
