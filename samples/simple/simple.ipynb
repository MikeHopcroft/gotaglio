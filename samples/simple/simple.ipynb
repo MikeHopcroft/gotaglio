{
 "cells": [
  {
   "cell_type": "markdown",
   "metadata": {},
   "source": [
    "# Simple Sample Notebook"
   ]
  },
  {
   "cell_type": "markdown",
   "metadata": {},
   "source": [
    "Define your pipeline. In this case we're using the SimplePipeline sample."
   ]
  },
  {
   "cell_type": "code",
   "execution_count": 5,
   "metadata": {},
   "outputs": [],
   "source": [
    "from simple import SimplePipeline\n",
    "# from gotaglio.gotag import Gotaglio"
   ]
  },
  {
   "cell_type": "markdown",
   "metadata": {},
   "source": [
    "Define your test cases."
   ]
  },
  {
   "cell_type": "code",
   "execution_count": 6,
   "metadata": {},
   "outputs": [],
   "source": [
    "cases = [\n",
    "  {\n",
    "    \"uuid\": \"ed6ceb29-b4b9-427c-99b8-635984198a59\",\n",
    "    \"keywords\": [\n",
    "      \"p0\",\n",
    "      \"addition\"\n",
    "    ],\n",
    "    \"user\": \"1+1\",\n",
    "    \"base\": 10,\n",
    "    \"answer\": 2\n",
    "  },\n",
    "  {\n",
    "    \"uuid\": \"e0936e92-9abb-4fdb-8907-f17e8d40b1fd\",\n",
    "    \"keywords\": [\n",
    "      \"p0\",\n",
    "      \"addition\",\n",
    "      \"multiplication\"\n",
    "    ],\n",
    "    \"user\": \"1 + 2 * 3\",\n",
    "    \"base\": 10,\n",
    "    \"answer\": 7\n",
    "  },\n",
    "  {\n",
    "    \"uuid\": \"e86add04-88e2-42e0-b37e-af137868eec7\",\n",
    "    \"keywords\": [\n",
    "      \"division, hexidecimal\"\n",
    "    ],\n",
    "    \"user\": \"a0 / 4\",\n",
    "    \"base\": 16,\n",
    "    \"answer\": 40\n",
    "  },\n",
    "  {\n",
    "    \"uuid\": \"d739e6a7-70d4-42d8-9f4b-7438529ebadd\",\n",
    "    \"keywords\": [\n",
    "      \"division, hexidecimal, fails\"\n",
    "    ],\n",
    "    \"user\": \"a1 / 4\",\n",
    "    \"base\": 16,\n",
    "    \"answer\": 40.25\n",
    "  }\n",
    "]"
   ]
  },
  {
   "cell_type": "markdown",
   "metadata": {},
   "source": [
    "The next cell reloads packages you may be editing. You must run this cell after each edit to `gotaglio.gotag` or `simple.SimplePipeline`."
   ]
  },
  {
   "cell_type": "code",
   "execution_count": null,
   "metadata": {},
   "outputs": [],
   "source": [
    "import nest_asyncio\n",
    "import importlib\n",
    "from gotaglio import gotag\n",
    "from gotaglio import shared\n",
    "import simple\n",
    "\n",
    "# Necessary for running asyncio in Jupyter\n",
    "nest_asyncio.apply()\n",
    "\n",
    "# Reload the gotag module\n",
    "importlib.reload(gotag)\n",
    "\n",
    "# Reload the SimplePipeline module\n",
    "importlib.reload(simple)\n",
    "# Reload the SimplePipeline module\n",
    "\n",
    "importlib.reload(shared)\n",
    "\n",
    "from gotaglio.gotag import Gotaglio\n",
    "\n",
    "gt = Gotaglio([simple.SimplePipeline])"
   ]
  },
  {
   "cell_type": "markdown",
   "metadata": {},
   "source": [
    "Run a pipeline and store the result in `runlog1`."
   ]
  },
  {
   "cell_type": "code",
   "execution_count": 8,
   "metadata": {},
   "outputs": [
    {
     "data": {
      "text/html": [
       "<pre style=\"white-space:pre;overflow-x:auto;line-height:normal;font-family:Menlo,'DejaVu Sans Mono',consolas,'Courier New',monospace\"></pre>\n"
      ],
      "text/plain": []
     },
     "metadata": {},
     "output_type": "display_data"
    },
    {
     "name": "stdout",
     "output_type": "stream",
     "text": [
      "\u001b[3m    Summary for e085ccf5-3c30-4c8a-b25b-3e0c1ff6289d     \u001b[0m\n",
      "┏━━━━━┳━━━━━━━━━━┳━━━━━━━┳━━━━━━━━━━━━━━━━━━━━━━━━━━━━━━┓\n",
      "┃\u001b[1m \u001b[0m\u001b[1m id\u001b[0m\u001b[1m \u001b[0m┃\u001b[1m \u001b[0m\u001b[1mrun     \u001b[0m\u001b[1m \u001b[0m┃\u001b[1m \u001b[0m\u001b[1mscore\u001b[0m\u001b[1m \u001b[0m┃\u001b[1m \u001b[0m\u001b[1mkeywords                    \u001b[0m\u001b[1m \u001b[0m┃\n",
      "┡━━━━━╇━━━━━━━━━━╇━━━━━━━╇━━━━━━━━━━━━━━━━━━━━━━━━━━━━━━┩\n",
      "│\u001b[36m \u001b[0m\u001b[36med6\u001b[0m\u001b[36m \u001b[0m│\u001b[35m \u001b[0m\u001b[1;32mCOMPLETE\u001b[0m\u001b[35m \u001b[0m│\u001b[32m \u001b[0m\u001b[1;32m 0.00\u001b[0m\u001b[32m \u001b[0m│\u001b[32m \u001b[0m\u001b[32maddition, p0                \u001b[0m\u001b[32m \u001b[0m│\n",
      "│\u001b[36m \u001b[0m\u001b[36me09\u001b[0m\u001b[36m \u001b[0m│\u001b[35m \u001b[0m\u001b[1;32mCOMPLETE\u001b[0m\u001b[35m \u001b[0m│\u001b[32m \u001b[0m\u001b[1;32m 0.00\u001b[0m\u001b[32m \u001b[0m│\u001b[32m \u001b[0m\u001b[32maddition, multiplication, p0\u001b[0m\u001b[32m \u001b[0m│\n",
      "│\u001b[36m \u001b[0m\u001b[36me86\u001b[0m\u001b[36m \u001b[0m│\u001b[35m \u001b[0m\u001b[1;32mCOMPLETE\u001b[0m\u001b[35m \u001b[0m│\u001b[32m \u001b[0m\u001b[1;32m 0.00\u001b[0m\u001b[32m \u001b[0m│\u001b[32m \u001b[0m\u001b[32mdivision, hexidecimal       \u001b[0m\u001b[32m \u001b[0m│\n",
      "│\u001b[36m \u001b[0m\u001b[36md73\u001b[0m\u001b[36m \u001b[0m│\u001b[35m \u001b[0m\u001b[1;32mCOMPLETE\u001b[0m\u001b[35m \u001b[0m│\u001b[32m \u001b[0m\u001b[1;32m 0.00\u001b[0m\u001b[32m \u001b[0m│\u001b[32m \u001b[0m\u001b[32mdivision, hexidecimal, fails\u001b[0m\u001b[32m \u001b[0m│\n",
      "└─────┴──────────┴───────┴──────────────────────────────┘\n",
      "\n",
      "Total: \u001b[1;36m4\u001b[0m\n",
      "Complete: \u001b[1;36m4\u001b[0m/\u001b[1;36m4\u001b[0m \u001b[1m(\u001b[0m\u001b[1;36m100.00\u001b[0m%\u001b[1m)\u001b[0m\n",
      "Error: \u001b[1;36m0\u001b[0m/\u001b[1;36m4\u001b[0m \u001b[1m(\u001b[0m\u001b[1;36m0.00\u001b[0m%\u001b[1m)\u001b[0m\n",
      "Passed: \u001b[1;36m4\u001b[0m/\u001b[1;36m4\u001b[0m \u001b[1m(\u001b[0m\u001b[1;36m100.00\u001b[0m%\u001b[1m)\u001b[0m\n",
      "Failed: \u001b[1;36m0\u001b[0m/\u001b[1;36m4\u001b[0m \u001b[1m(\u001b[0m\u001b[1;36m0.00\u001b[0m%\u001b[1m)\u001b[0m\n",
      "\n",
      "\n",
      "Results written to logs\\e085ccf5-3c30-4c8a-b25b-3e0c1ff6289d.json\n"
     ]
    }
   ],
   "source": [
    "runlog1 = gt.run(\"simple\", cases, {\"prepare.template\": \"template.txt\", \"infer.model.name\": \"perfect\"},  save=True)"
   ]
  },
  {
   "cell_type": "markdown",
   "metadata": {},
   "source": [
    "Rerun an experiment with a different model and store the runlog in `runlog2`."
   ]
  },
  {
   "cell_type": "code",
   "execution_count": 9,
   "metadata": {},
   "outputs": [
    {
     "data": {
      "text/html": [
       "<pre style=\"white-space:pre;overflow-x:auto;line-height:normal;font-family:Menlo,'DejaVu Sans Mono',consolas,'Courier New',monospace\"></pre>\n"
      ],
      "text/plain": []
     },
     "metadata": {},
     "output_type": "display_data"
    },
    {
     "name": "stdout",
     "output_type": "stream",
     "text": [
      "\u001b[3m    Summary for 19be50c2-a332-40d7-828e-5ba51a4016b5     \u001b[0m\n",
      "┏━━━━━┳━━━━━━━━━━┳━━━━━━━┳━━━━━━━━━━━━━━━━━━━━━━━━━━━━━━┓\n",
      "┃\u001b[1m \u001b[0m\u001b[1m id\u001b[0m\u001b[1m \u001b[0m┃\u001b[1m \u001b[0m\u001b[1mrun     \u001b[0m\u001b[1m \u001b[0m┃\u001b[1m \u001b[0m\u001b[1mscore\u001b[0m\u001b[1m \u001b[0m┃\u001b[1m \u001b[0m\u001b[1mkeywords                    \u001b[0m\u001b[1m \u001b[0m┃\n",
      "┡━━━━━╇━━━━━━━━━━╇━━━━━━━╇━━━━━━━━━━━━━━━━━━━━━━━━━━━━━━┩\n",
      "│\u001b[36m \u001b[0m\u001b[36med6\u001b[0m\u001b[36m \u001b[0m│\u001b[35m \u001b[0m\u001b[1;32mCOMPLETE\u001b[0m\u001b[35m \u001b[0m│\u001b[32m \u001b[0m\u001b[1;32m 0.00\u001b[0m\u001b[32m \u001b[0m│\u001b[32m \u001b[0m\u001b[32maddition, p0                \u001b[0m\u001b[32m \u001b[0m│\n",
      "│\u001b[36m \u001b[0m\u001b[36me09\u001b[0m\u001b[36m \u001b[0m│\u001b[35m \u001b[0m\u001b[1;31mERROR   \u001b[0m\u001b[35m \u001b[0m│\u001b[32m \u001b[0m\u001b[1;31m     \u001b[0m\u001b[32m \u001b[0m│\u001b[32m \u001b[0m\u001b[32maddition, multiplication, p0\u001b[0m\u001b[32m \u001b[0m│\n",
      "│\u001b[36m \u001b[0m\u001b[36me86\u001b[0m\u001b[36m \u001b[0m│\u001b[35m \u001b[0m\u001b[1;31mERROR   \u001b[0m\u001b[35m \u001b[0m│\u001b[32m \u001b[0m\u001b[1;31m     \u001b[0m\u001b[32m \u001b[0m│\u001b[32m \u001b[0m\u001b[32mdivision, hexidecimal       \u001b[0m\u001b[32m \u001b[0m│\n",
      "│\u001b[36m \u001b[0m\u001b[36md73\u001b[0m\u001b[36m \u001b[0m│\u001b[35m \u001b[0m\u001b[1;32mCOMPLETE\u001b[0m\u001b[35m \u001b[0m│\u001b[32m \u001b[0m\u001b[1;32m 0.00\u001b[0m\u001b[32m \u001b[0m│\u001b[32m \u001b[0m\u001b[32mdivision, hexidecimal, fails\u001b[0m\u001b[32m \u001b[0m│\n",
      "└─────┴──────────┴───────┴──────────────────────────────┘\n",
      "\n",
      "Total: \u001b[1;36m4\u001b[0m\n",
      "Complete: \u001b[1;36m2\u001b[0m/\u001b[1;36m4\u001b[0m \u001b[1m(\u001b[0m\u001b[1;36m50.00\u001b[0m%\u001b[1m)\u001b[0m\n",
      "Error: \u001b[1;36m2\u001b[0m/\u001b[1;36m4\u001b[0m \u001b[1m(\u001b[0m\u001b[1;36m50.00\u001b[0m%\u001b[1m)\u001b[0m\n",
      "Passed: \u001b[1;36m2\u001b[0m/\u001b[1;36m4\u001b[0m \u001b[1m(\u001b[0m\u001b[1;36m50.00\u001b[0m%\u001b[1m)\u001b[0m\n",
      "Failed: \u001b[1;36m0\u001b[0m/\u001b[1;36m4\u001b[0m \u001b[1m(\u001b[0m\u001b[1;36m0.00\u001b[0m%\u001b[1m)\u001b[0m\n",
      "\n",
      "\n"
     ]
    }
   ],
   "source": [
    "runlog2 = gt.rerun(runlog1, {\"prepare.template\": \"template.txt\", \"infer.model.name\": \"flakey\"})"
   ]
  },
  {
   "cell_type": "code",
   "execution_count": 10,
   "metadata": {},
   "outputs": [
    {
     "data": {
      "text/html": [
       "<pre style=\"white-space:pre;overflow-x:auto;line-height:normal;font-family:Menlo,'DejaVu Sans Mono',consolas,'Courier New',monospace\"></pre>\n"
      ],
      "text/plain": []
     },
     "metadata": {},
     "output_type": "display_data"
    },
    {
     "data": {
      "text/markdown": [
       "# Run 19be50c2-a332-40d7-828e-5ba51a4016b5\n",
       "## Case: ed6\n",
       "**PASSED**  \n",
       "Input tokens: 35, output tokens: 1\n",
       "\n",
       "**system**: You are a desktop calculator that computes the value of mathematical expressions.\n",
       "The input is base 10.\n",
       "Your output should be just a base 10 numerical result.\n",
       "\n",
       "**user**: 1+1\n",
       "\n",
       "**assistant**: 2.0\n",
       "## Case: e09\n",
       "\n",
       "~~~bash\n",
       "Error: Context: Extracting numerical answer from LLM response.\n",
       "Error: could not convert string to float: 'hello world'\n",
       "\n",
       "Traceback: Traceback (most recent call last):\n",
       "  File \"c:\\git\\llm-tools\\gotaglio\\gotaglio\\director.py\", line 136, in process_one_case\n",
       "    await run_dag(dag, result)\n",
       "  File \"c:\\git\\llm-tools\\gotaglio\\gotaglio\\dag.py\", line 115, in run_dag\n",
       "    (name, result) = task.result()\n",
       "                     ^^^^^^^^^^^^^\n",
       "  File \"C:\\Users\\mhop\\AppData\\Local\\Programs\\Python\\Python312\\Lib\\asyncio\\futures.py\", line 202, in result\n",
       "    raise self._exception.with_traceback(self._exception_tb)\n",
       "  File \"C:\\Users\\mhop\\AppData\\Local\\Programs\\Python\\Python312\\Lib\\asyncio\\tasks.py\", line 314, in \n",
       "__step_run_and_handle_result\n",
       "    result = coro.send(None)\n",
       "             ^^^^^^^^^^^^^^^\n",
       "  File \"c:\\git\\llm-tools\\gotaglio\\gotaglio\\dag.py\", line 81, in run_task\n",
       "    raise e\n",
       "  File \"c:\\git\\llm-tools\\gotaglio\\gotaglio\\dag.py\", line 73, in run_task\n",
       "    result = await dag[\"function\"](context)\n",
       "             ^^^^^^^^^^^^^^^^^^^^^^^^^^^^^^^^^^^^\n",
       "  File \"c:\\git\\llm-tools\\gotaglio\\samples\\simple\\simple.py\", line 161, in extract\n",
       "    return float(context[\"stages\"][\"infer\"])\n",
       "           ^^^^^^^^^^^^^^^^^^^^^^^^^^^^^^^^^\n",
       "ValueError: could not convert string to float: 'hello world'\n",
       "\n",
       "Time: 2025-03-31 22:25:14.095428+00:00\n",
       "~~~\n",
       "\n",
       "## Case: e86\n",
       "\n",
       "~~~bash\n",
       "Error: Error: Flakey model failed\n",
       "\n",
       "Traceback: Traceback (most recent call last):\n",
       "  File \"c:\\git\\llm-tools\\gotaglio\\gotaglio\\director.py\", line 136, in process_one_case\n",
       "    await run_dag(dag, result)\n",
       "  File \"c:\\git\\llm-tools\\gotaglio\\gotaglio\\dag.py\", line 115, in run_dag\n",
       "    (name, result) = task.result()\n",
       "                     ^^^^^^^^^^^^^\n",
       "  File \"C:\\Users\\mhop\\AppData\\Local\\Programs\\Python\\Python312\\Lib\\asyncio\\futures.py\", line 202, in result\n",
       "    raise self._exception.with_traceback(self._exception_tb)\n",
       "  File \"C:\\Users\\mhop\\AppData\\Local\\Programs\\Python\\Python312\\Lib\\asyncio\\tasks.py\", line 314, in \n",
       "__step_run_and_handle_result\n",
       "    result = coro.send(None)\n",
       "             ^^^^^^^^^^^^^^^\n",
       "  File \"c:\\git\\llm-tools\\gotaglio\\gotaglio\\dag.py\", line 81, in run_task\n",
       "    raise e\n",
       "  File \"c:\\git\\llm-tools\\gotaglio\\gotaglio\\dag.py\", line 73, in run_task\n",
       "    result = await dag[\"function\"](context)\n",
       "             ^^^^^^^^^^^^^^^^^^^^^^^^^^^^^^^^^^^^\n",
       "  File \"c:\\git\\llm-tools\\gotaglio\\samples\\simple\\simple.py\", line 154, in infer\n",
       "    return await model.infer(context[\"stages\"][\"prepare\"], context)\n",
       "           ^^^^^^^^^^^^^^^^^^^^^^^^^^^^^^^^^^^^^^^^^^^^^^^^^^^^^^^^\n",
       "  File \"c:\\git\\llm-tools\\gotaglio\\samples\\simple\\simple.py\", line 419, in infer\n",
       "    raise Exception(\"Flakey model failed\")\n",
       "Exception: Flakey model failed\n",
       "\n",
       "Time: 2025-03-31 22:25:14.097425+00:00\n",
       "~~~\n",
       "\n",
       "## Case: d73\n",
       "**PASSED**  \n",
       "Input tokens: 37, output tokens: 3\n",
       "\n",
       "**system**: You are a desktop calculator that computes the value of mathematical expressions.\n",
       "The input is base 16.\n",
       "Your output should be just a base 10 numerical result.\n",
       "\n",
       "**user**: a1 / 4\n",
       "\n",
       "**assistant**: 40.25"
      ],
      "text/plain": [
       "<IPython.core.display.Markdown object>"
      ]
     },
     "metadata": {},
     "output_type": "display_data"
    }
   ],
   "source": [
    "gt.format(runlog2)"
   ]
  },
  {
   "cell_type": "code",
   "execution_count": 11,
   "metadata": {},
   "outputs": [
    {
     "data": {
      "text/html": [
       "<pre style=\"white-space:pre;overflow-x:auto;line-height:normal;font-family:Menlo,'DejaVu Sans Mono',consolas,'Courier New',monospace\"></pre>\n"
      ],
      "text/plain": []
     },
     "metadata": {},
     "output_type": "display_data"
    },
    {
     "name": "stdout",
     "output_type": "stream",
     "text": [
      "\u001b[3m    Summary for 19be50c2-a332-40d7-828e-5ba51a4016b5     \u001b[0m\n",
      "┏━━━━━┳━━━━━━━━━━┳━━━━━━━┳━━━━━━━━━━━━━━━━━━━━━━━━━━━━━━┓\n",
      "┃\u001b[1m \u001b[0m\u001b[1m id\u001b[0m\u001b[1m \u001b[0m┃\u001b[1m \u001b[0m\u001b[1mrun     \u001b[0m\u001b[1m \u001b[0m┃\u001b[1m \u001b[0m\u001b[1mscore\u001b[0m\u001b[1m \u001b[0m┃\u001b[1m \u001b[0m\u001b[1mkeywords                    \u001b[0m\u001b[1m \u001b[0m┃\n",
      "┡━━━━━╇━━━━━━━━━━╇━━━━━━━╇━━━━━━━━━━━━━━━━━━━━━━━━━━━━━━┩\n",
      "│\u001b[36m \u001b[0m\u001b[36med6\u001b[0m\u001b[36m \u001b[0m│\u001b[35m \u001b[0m\u001b[1;32mCOMPLETE\u001b[0m\u001b[35m \u001b[0m│\u001b[32m \u001b[0m\u001b[1;32m 0.00\u001b[0m\u001b[32m \u001b[0m│\u001b[32m \u001b[0m\u001b[32maddition, p0                \u001b[0m\u001b[32m \u001b[0m│\n",
      "│\u001b[36m \u001b[0m\u001b[36me09\u001b[0m\u001b[36m \u001b[0m│\u001b[35m \u001b[0m\u001b[1;31mERROR   \u001b[0m\u001b[35m \u001b[0m│\u001b[32m \u001b[0m\u001b[1;31m     \u001b[0m\u001b[32m \u001b[0m│\u001b[32m \u001b[0m\u001b[32maddition, multiplication, p0\u001b[0m\u001b[32m \u001b[0m│\n",
      "│\u001b[36m \u001b[0m\u001b[36me86\u001b[0m\u001b[36m \u001b[0m│\u001b[35m \u001b[0m\u001b[1;31mERROR   \u001b[0m\u001b[35m \u001b[0m│\u001b[32m \u001b[0m\u001b[1;31m     \u001b[0m\u001b[32m \u001b[0m│\u001b[32m \u001b[0m\u001b[32mdivision, hexidecimal       \u001b[0m\u001b[32m \u001b[0m│\n",
      "│\u001b[36m \u001b[0m\u001b[36md73\u001b[0m\u001b[36m \u001b[0m│\u001b[35m \u001b[0m\u001b[1;32mCOMPLETE\u001b[0m\u001b[35m \u001b[0m│\u001b[32m \u001b[0m\u001b[1;32m 0.00\u001b[0m\u001b[32m \u001b[0m│\u001b[32m \u001b[0m\u001b[32mdivision, hexidecimal, fails\u001b[0m\u001b[32m \u001b[0m│\n",
      "└─────┴──────────┴───────┴──────────────────────────────┘\n",
      "\n",
      "Total: \u001b[1;36m4\u001b[0m\n",
      "Complete: \u001b[1;36m2\u001b[0m/\u001b[1;36m4\u001b[0m \u001b[1m(\u001b[0m\u001b[1;36m50.00\u001b[0m%\u001b[1m)\u001b[0m\n",
      "Error: \u001b[1;36m2\u001b[0m/\u001b[1;36m4\u001b[0m \u001b[1m(\u001b[0m\u001b[1;36m50.00\u001b[0m%\u001b[1m)\u001b[0m\n",
      "Passed: \u001b[1;36m2\u001b[0m/\u001b[1;36m4\u001b[0m \u001b[1m(\u001b[0m\u001b[1;36m50.00\u001b[0m%\u001b[1m)\u001b[0m\n",
      "Failed: \u001b[1;36m0\u001b[0m/\u001b[1;36m4\u001b[0m \u001b[1m(\u001b[0m\u001b[1;36m0.00\u001b[0m%\u001b[1m)\u001b[0m\n",
      "\n",
      "\n"
     ]
    }
   ],
   "source": [
    "gt.summarize(runlog2)"
   ]
  },
  {
   "cell_type": "code",
   "execution_count": 12,
   "metadata": {},
   "outputs": [
    {
     "data": {
      "text/html": [
       "<pre style=\"white-space:pre;overflow-x:auto;line-height:normal;font-family:Menlo,'DejaVu Sans Mono',consolas,'Courier New',monospace\"></pre>\n"
      ],
      "text/plain": []
     },
     "metadata": {},
     "output_type": "display_data"
    },
    {
     "name": "stdout",
     "output_type": "stream",
     "text": [
      "\u001b[3m    Summary for e085ccf5-3c30-4c8a-b25b-3e0c1ff6289d     \u001b[0m\n",
      "┏━━━━━┳━━━━━━━━━━┳━━━━━━━┳━━━━━━━━━━━━━━━━━━━━━━━━━━━━━━┓\n",
      "┃\u001b[1m \u001b[0m\u001b[1m id\u001b[0m\u001b[1m \u001b[0m┃\u001b[1m \u001b[0m\u001b[1mrun     \u001b[0m\u001b[1m \u001b[0m┃\u001b[1m \u001b[0m\u001b[1mscore\u001b[0m\u001b[1m \u001b[0m┃\u001b[1m \u001b[0m\u001b[1mkeywords                    \u001b[0m\u001b[1m \u001b[0m┃\n",
      "┡━━━━━╇━━━━━━━━━━╇━━━━━━━╇━━━━━━━━━━━━━━━━━━━━━━━━━━━━━━┩\n",
      "│\u001b[36m \u001b[0m\u001b[36med6\u001b[0m\u001b[36m \u001b[0m│\u001b[35m \u001b[0m\u001b[1;32mCOMPLETE\u001b[0m\u001b[35m \u001b[0m│\u001b[32m \u001b[0m\u001b[1;32m 0.00\u001b[0m\u001b[32m \u001b[0m│\u001b[32m \u001b[0m\u001b[32maddition, p0                \u001b[0m\u001b[32m \u001b[0m│\n",
      "│\u001b[36m \u001b[0m\u001b[36me09\u001b[0m\u001b[36m \u001b[0m│\u001b[35m \u001b[0m\u001b[1;32mCOMPLETE\u001b[0m\u001b[35m \u001b[0m│\u001b[32m \u001b[0m\u001b[1;32m 0.00\u001b[0m\u001b[32m \u001b[0m│\u001b[32m \u001b[0m\u001b[32maddition, multiplication, p0\u001b[0m\u001b[32m \u001b[0m│\n",
      "│\u001b[36m \u001b[0m\u001b[36me86\u001b[0m\u001b[36m \u001b[0m│\u001b[35m \u001b[0m\u001b[1;32mCOMPLETE\u001b[0m\u001b[35m \u001b[0m│\u001b[32m \u001b[0m\u001b[1;32m 0.00\u001b[0m\u001b[32m \u001b[0m│\u001b[32m \u001b[0m\u001b[32mdivision, hexidecimal       \u001b[0m\u001b[32m \u001b[0m│\n",
      "│\u001b[36m \u001b[0m\u001b[36md73\u001b[0m\u001b[36m \u001b[0m│\u001b[35m \u001b[0m\u001b[1;32mCOMPLETE\u001b[0m\u001b[35m \u001b[0m│\u001b[32m \u001b[0m\u001b[1;32m 0.00\u001b[0m\u001b[32m \u001b[0m│\u001b[32m \u001b[0m\u001b[32mdivision, hexidecimal, fails\u001b[0m\u001b[32m \u001b[0m│\n",
      "└─────┴──────────┴───────┴──────────────────────────────┘\n",
      "\n",
      "Total: \u001b[1;36m4\u001b[0m\n",
      "Complete: \u001b[1;36m4\u001b[0m/\u001b[1;36m4\u001b[0m \u001b[1m(\u001b[0m\u001b[1;36m100.00\u001b[0m%\u001b[1m)\u001b[0m\n",
      "Error: \u001b[1;36m0\u001b[0m/\u001b[1;36m4\u001b[0m \u001b[1m(\u001b[0m\u001b[1;36m0.00\u001b[0m%\u001b[1m)\u001b[0m\n",
      "Passed: \u001b[1;36m4\u001b[0m/\u001b[1;36m4\u001b[0m \u001b[1m(\u001b[0m\u001b[1;36m100.00\u001b[0m%\u001b[1m)\u001b[0m\n",
      "Failed: \u001b[1;36m0\u001b[0m/\u001b[1;36m4\u001b[0m \u001b[1m(\u001b[0m\u001b[1;36m0.00\u001b[0m%\u001b[1m)\u001b[0m\n",
      "\n",
      "\n"
     ]
    }
   ],
   "source": [
    "gt.summarize(\"latest\")"
   ]
  },
  {
   "cell_type": "code",
   "execution_count": 13,
   "metadata": {},
   "outputs": [
    {
     "data": {
      "text/html": [
       "<pre style=\"white-space:pre;overflow-x:auto;line-height:normal;font-family:Menlo,'DejaVu Sans Mono',consolas,'Courier New',monospace\"></pre>\n"
      ],
      "text/plain": []
     },
     "metadata": {},
     "output_type": "display_data"
    },
    {
     "name": "stdout",
     "output_type": "stream",
     "text": [
      "A: \u001b[93me085ccf5-3c30-4c8a-b25b-3e0c1ff6289d\u001b[0m\n",
      "B: \u001b[93m19be50c2-a332-40d7-828e-5ba51a4016b5\u001b[0m\n",
      "\n",
      "\u001b[1;36m0\u001b[0m cases only in A\n",
      "\u001b[1;36m0\u001b[0m cases only in B\n",
      "\u001b[1;36m4\u001b[0m cases in both A and B\n",
      "\n",
      "\u001b[3m                       Comparison of A, B                        \u001b[0m\n",
      "┏━━━━━━━┳━━━━━━━━━━━━┳━━━━━━━━━━━┳━━━━━━━━━━━━━━━━━━━━━━━━━━━━━━┓\n",
      "┃\u001b[1m \u001b[0m\u001b[1m   id\u001b[0m\u001b[1m \u001b[0m┃\u001b[1m \u001b[0m\u001b[1m         A\u001b[0m\u001b[1m \u001b[0m┃\u001b[1m \u001b[0m\u001b[1m        B\u001b[0m\u001b[1m \u001b[0m┃\u001b[1m \u001b[0m\u001b[1mkeywords                    \u001b[0m\u001b[1m \u001b[0m┃\n",
      "┡━━━━━━━╇━━━━━━━━━━━━╇━━━━━━━━━━━╇━━━━━━━━━━━━━━━━━━━━━━━━━━━━━━┩\n",
      "│\u001b[36m \u001b[0m\u001b[36m  ed6\u001b[0m\u001b[36m \u001b[0m│\u001b[35m \u001b[0m\u001b[1;32m    passed\u001b[0m\u001b[35m \u001b[0m│\u001b[32m \u001b[0m\u001b[1;32m   passed\u001b[0m\u001b[32m \u001b[0m│\u001b[32m \u001b[0m\u001b[32maddition, p0                \u001b[0m\u001b[32m \u001b[0m│\n",
      "│\u001b[36m \u001b[0m\u001b[36m  d73\u001b[0m\u001b[36m \u001b[0m│\u001b[35m \u001b[0m\u001b[1;32m    passed\u001b[0m\u001b[35m \u001b[0m│\u001b[32m \u001b[0m\u001b[1;32m   passed\u001b[0m\u001b[32m \u001b[0m│\u001b[32m \u001b[0m\u001b[32mdivision, hexidecimal, fails\u001b[0m\u001b[32m \u001b[0m│\n",
      "│\u001b[36m \u001b[0m\u001b[36m  e09\u001b[0m\u001b[36m \u001b[0m│\u001b[35m \u001b[0m\u001b[1;32m    passed\u001b[0m\u001b[35m \u001b[0m│\u001b[32m \u001b[0m\u001b[1;31m    error\u001b[0m\u001b[32m \u001b[0m│\u001b[32m \u001b[0m\u001b[32maddition, multiplication, p0\u001b[0m\u001b[32m \u001b[0m│\n",
      "│\u001b[36m \u001b[0m\u001b[36m  e86\u001b[0m\u001b[36m \u001b[0m│\u001b[35m \u001b[0m\u001b[1;32m    passed\u001b[0m\u001b[35m \u001b[0m│\u001b[32m \u001b[0m\u001b[1;31m    error\u001b[0m\u001b[32m \u001b[0m│\u001b[32m \u001b[0m\u001b[32mdivision, hexidecimal       \u001b[0m\u001b[32m \u001b[0m│\n",
      "├───────┼────────────┼───────────┼──────────────────────────────┤\n",
      "│\u001b[1m \u001b[0m\u001b[1mTotal\u001b[0m\u001b[1m \u001b[0m│\u001b[1m \u001b[0m\u001b[1m4/4 (100%)\u001b[0m\u001b[1m \u001b[0m│\u001b[1m \u001b[0m\u001b[1m2/4 (50%)\u001b[0m\u001b[1m \u001b[0m│\u001b[1m \u001b[0m\u001b[1m                            \u001b[0m\u001b[1m \u001b[0m│\n",
      "└───────┴────────────┴───────────┴──────────────────────────────┘\n",
      "\n",
      "\n"
     ]
    }
   ],
   "source": [
    "gt.compare(runlog1, runlog2)"
   ]
  },
  {
   "cell_type": "code",
   "execution_count": 14,
   "metadata": {},
   "outputs": [
    {
     "name": "stdout",
     "output_type": "stream",
     "text": [
      "Total cases: 4\n",
      "UUIDs added: 0\n"
     ]
    }
   ],
   "source": [
    "gt.add_ids(cases)"
   ]
  },
  {
   "cell_type": "code",
   "execution_count": 15,
   "metadata": {},
   "outputs": [
    {
     "data": {
      "text/plain": [
       "True"
      ]
     },
     "execution_count": 15,
     "metadata": {},
     "output_type": "execute_result"
    }
   ],
   "source": [
    "from gotaglio.gotag import is_running_in_notebook\n",
    "\n",
    "is_running_in_notebook()"
   ]
  }
 ],
 "metadata": {
  "kernelspec": {
   "display_name": ".venv (3.12.8)",
   "language": "python",
   "name": "python3"
  },
  "language_info": {
   "codemirror_mode": {
    "name": "ipython",
    "version": 3
   },
   "file_extension": ".py",
   "mimetype": "text/x-python",
   "name": "python",
   "nbconvert_exporter": "python",
   "pygments_lexer": "ipython3",
   "version": "3.12.8"
  }
 },
 "nbformat": 4,
 "nbformat_minor": 2
}
